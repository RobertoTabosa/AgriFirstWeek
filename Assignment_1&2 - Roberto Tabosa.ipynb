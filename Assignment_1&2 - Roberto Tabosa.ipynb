{
 "cells": [
  {
   "cell_type": "markdown",
   "metadata": {},
   "source": [
    "**Please follow the instructions. Do not add new cell! Write your code in designated areas.**"
   ]
  },
  {
   "cell_type": "code",
   "execution_count": 1,
   "metadata": {},
   "outputs": [
    {
     "name": "stdout",
     "output_type": "stream",
     "text": [
      "Assignment 1 & 2: Solutions by Roberto Tabosa\n",
      "Local Time: 2023-09-19 09:26:47\n",
      "Computer ID: MacBook-Pro.local\n"
     ]
    }
   ],
   "source": [
    "import datetime\n",
    "import socket\n",
    "\n",
    "# Get local time\n",
    "local_time = datetime.datetime.now().strftime(\"%Y-%m-%d %H:%M:%S\")\n",
    "\n",
    "# Get computer ID or hostname\n",
    "computer_id = socket.gethostname()\n",
    "\n",
    "# Print output with local time and computer ID\n",
    "print('Assignment 1 & 2: Solutions by Roberto Tabosa') # Please change your name here\n",
    "print('Local Time:', local_time)\n",
    "print('Computer ID:', computer_id)"
   ]
  },
  {
   "cell_type": "markdown",
   "metadata": {},
   "source": [
    "**Note that you have to run this code in your local engine to pass the assignments**"
   ]
  },
  {
   "cell_type": "markdown",
   "metadata": {},
   "source": [
    "# Assignment 1"
   ]
  },
  {
   "cell_type": "markdown",
   "metadata": {},
   "source": [
    "## Exercise 1: String Manipulation"
   ]
  },
  {
   "cell_type": "markdown",
   "metadata": {},
   "source": [
    "Develop a function that accepts a string parameter indicating a crop name and gives back the crop name in capital letters. Hints: str, upper()"
   ]
  },
  {
   "cell_type": "code",
   "execution_count": 2,
   "metadata": {},
   "outputs": [
    {
     "name": "stdout",
     "output_type": "stream",
     "text": [
      "Crop Name: Canola\n",
      "CANOLA\n"
     ]
    }
   ],
   "source": [
    "## Your code here down\n",
    "def fConvert (name):\n",
    "    nameUp = name.upper()\n",
    "    return nameUp\n",
    "\n",
    "name = str(input(\"Crop Name: \"))\n",
    "nameUp = fConvert(name)\n",
    "print(nameUp)\n",
    "\n",
    "## Your code here up"
   ]
  },
  {
   "cell_type": "markdown",
   "metadata": {},
   "source": [
    "## Exercise 2: Crop Count"
   ]
  },
  {
   "cell_type": "markdown",
   "metadata": {},
   "source": [
    "Create a function that receives a list of crop names (lentil, barley, canola, spring wheat, durum wheat, oats, alfalfa) and outputs the total number of crops. Hints: list, length."
   ]
  },
  {
   "cell_type": "code",
   "execution_count": 3,
   "metadata": {},
   "outputs": [
    {
     "name": "stdout",
     "output_type": "stream",
     "text": [
      "Total number of crops is:  7\n"
     ]
    }
   ],
   "source": [
    "## Your code here down\n",
    "def fList (namesList):\n",
    "    amount = len(namesList)\n",
    "    return amount\n",
    "\n",
    "namesList = [\"lentil\", \"barley\", \"canola\", \"spring wheat\", \"durum wheat\", \"oats\", \"alfalfa\"]\n",
    "amount = fList (namesList)\n",
    "print(\"Total number of crops is: \", amount)\n",
    "\n",
    "## Your code here up"
   ]
  },
  {
   "cell_type": "markdown",
   "metadata": {},
   "source": [
    "## Exercise 3: Temperature Conversion"
   ]
  },
  {
   "cell_type": "markdown",
   "metadata": {},
   "source": [
    "Create a function that takes a temperature in Celsius and converts it to Fahrenheit. Return the converted temperature. Keys:def, find converter."
   ]
  },
  {
   "cell_type": "code",
   "execution_count": 4,
   "metadata": {},
   "outputs": [
    {
     "name": "stdout",
     "output_type": "stream",
     "text": [
      "Enter the temperature to be converted to Fahrenheit: 25\n",
      "25.0 celsius degree correspondig to  77.0\n"
     ]
    }
   ],
   "source": [
    "## Your code here down\n",
    "def fConvertTemp (celsius):\n",
    "    fahren = (celsius * 9/5) + 32 \n",
    "    return fahren\n",
    "\n",
    "celsius = float(input(\"Enter the temperature to be converted to Fahrenheit: \"))\n",
    "fahren = fConvertTemp (celsius)\n",
    "print (celsius, \"celsius degree correspondig to \", fahren)\n",
    "\n",
    "## Your code here up"
   ]
  },
  {
   "cell_type": "markdown",
   "metadata": {},
   "source": [
    "## Exercise 4: Crop Harvest"
   ]
  },
  {
   "cell_type": "markdown",
   "metadata": {},
   "source": [
    "Create a function that takes the yield of canola crop (in bushels) and returns a string indicating whether it's a high, moderate, or low yield. Keys: strings, if-else, print()"
   ]
  },
  {
   "cell_type": "code",
   "execution_count": 5,
   "metadata": {},
   "outputs": [
    {
     "name": "stdout",
     "output_type": "stream",
     "text": [
      "What the yield of canola crop: 300\n",
      "This yield of canola crop is:  moderate\n"
     ]
    }
   ],
   "source": [
    "## Your code here down\n",
    "def fYield (Ycanola):\n",
    "    if Ycanola < 100:\n",
    "        measure = 'low'\n",
    "        return measure\n",
    "    elif Ycanola > 300:\n",
    "        measure = 'high'\n",
    "        return measure\n",
    "    else:\n",
    "        measure = 'moderate'\n",
    "        return measure\n",
    "    \n",
    "Ycanola = float (input(\"What the yield of canola crop: \"))\n",
    "measure = fYield (Ycanola)\n",
    "print (\"This yield of canola crop is: \", measure)\n",
    "\n",
    "# I assumed that:\n",
    "# < 100 is low\n",
    "# between 100 and 200 is moderate and\n",
    "# greater than 300 is high\n",
    "## Your code here up"
   ]
  },
  {
   "cell_type": "markdown",
   "metadata": {},
   "source": [
    "## Exercise 5: Crop Average"
   ]
  },
  {
   "cell_type": "markdown",
   "metadata": {},
   "source": [
    "Create a function that takes a list of crop yields (spring wheat) and returns the average yield. Keys: list, average() or arithmetic average."
   ]
  },
  {
   "cell_type": "code",
   "execution_count": 6,
   "metadata": {},
   "outputs": [
    {
     "name": "stdout",
     "output_type": "stream",
     "text": [
      "The average yield is:  37.375\n"
     ]
    }
   ],
   "source": [
    "## Your code here down\n",
    "def fAverage (listCrop):\n",
    "    aver = sum(listCrop) / len(listCrop)\n",
    "    return aver\n",
    "\n",
    "listCrop = [10, 30.5, 60, 49]\n",
    "aver = fAverage(listCrop)\n",
    "print (\"The average yield is: \", aver)\n",
    "\n",
    "## Your code here up"
   ]
  },
  {
   "cell_type": "markdown",
   "metadata": {},
   "source": [
    "# Assignment 2"
   ]
  },
  {
   "cell_type": "markdown",
   "metadata": {},
   "source": [
    "## Exercise 6: Crop Recommendation"
   ]
  },
  {
   "cell_type": "markdown",
   "metadata": {},
   "source": [
    "Create a function that takes the type of soil (brown, dark brown, black) as a parameter and returns a recommended crop (lentil, canola, oats) for that soil type. Keys: dict"
   ]
  },
  {
   "cell_type": "code",
   "execution_count": 7,
   "metadata": {},
   "outputs": [
    {
     "name": "stdout",
     "output_type": "stream",
     "text": [
      "What type of soil (brown, dark brown, black)? black\n",
      "The recommended crop for black is oats.\n"
     ]
    }
   ],
   "source": [
    "## Your code here down\n",
    "def fTypeSoil(soil):\n",
    "    cropRec = {\"brown\": \"lentil\", \"dark brown\": \"canola\", \"black\":\"oats\"}\n",
    "    if soil in cropRec:\n",
    "        return cropRec[soil]\n",
    "    else:\n",
    "        return \"Crop didn't find\"\n",
    "\n",
    "soil = str(input(\"What type of soil (brown, dark brown, black)? \"))\n",
    "cropRec = fTypeSoil (soil)\n",
    "print (\"The recommended crop for\", soil, \"is\", cropRec + \".\")"
   ]
  },
  {
   "cell_type": "markdown",
   "metadata": {},
   "source": [
    "## Exercise 7: Crop Rotation"
   ]
  },
  {
   "cell_type": "markdown",
   "metadata": {},
   "source": [
    "Create a function that takes a list of crop names (lentil, barly, canola, spring wheat, durum wheat, oats) and rotates the crops by moving the last crop to the beginning of the list. Keys: list and list index"
   ]
  },
  {
   "cell_type": "code",
   "execution_count": 8,
   "metadata": {},
   "outputs": [
    {
     "name": "stdout",
     "output_type": "stream",
     "text": [
      "List before rotation: ['lentil', 'barly', 'canola', 'spring wheat', 'durum wheat', 'oats']\n",
      "List after rotation: ['oats', 'barly', 'canola', 'spring wheat', 'durum wheat', 'lentil']\n"
     ]
    }
   ],
   "source": [
    "## Your code here down\n",
    "def fRotList (listCrop):\n",
    "    aux = listCrop[0]\n",
    "    listCrop[0] = listCrop[-1]\n",
    "    listCrop[-1] = aux\n",
    "    return listCrop\n",
    "\n",
    "listCrop = [\"lentil\", \"barly\", \"canola\", \"spring wheat\", \"durum wheat\", \"oats\"]\n",
    "print (\"List before rotation:\", listCrop)\n",
    "listAftRot = fRotList (listCrop)\n",
    "print (\"List after rotation:\",listAftRot)\n",
    "\n",
    "## Your code here up"
   ]
  },
  {
   "cell_type": "markdown",
   "metadata": {},
   "source": [
    "# Exercise 8: Rainfall Analysis"
   ]
  },
  {
   "cell_type": "markdown",
   "metadata": {},
   "source": [
    "Create a function that takes a list of rainfall measurements (daily mm in a week) and returns the maximum and minimum rainfall values. Keys: min(), max(), lists"
   ]
  },
  {
   "cell_type": "code",
   "execution_count": 12,
   "metadata": {},
   "outputs": [
    {
     "name": "stdout",
     "output_type": "stream",
     "text": [
      "How many days do you want the rainfall measures to be assigned to? 5\n",
      "Enter the value for the day 1: 8\n",
      "Enter the value for the day 2: 14\n",
      "Enter the value for the day 3: 9\n",
      "Enter the value for the day 4: 23\n",
      "Enter the value for the day 5: 15\n",
      "[8.0, 14.0, 9.0, 23.0, 15.0]\n",
      "The minimum and maximum rainfall values are:(8.0, 23.0)\n"
     ]
    }
   ],
   "source": [
    "## Your code here down\n",
    "listRainfall = []\n",
    "\n",
    "def fMaxMin (listRainfall):\n",
    "    minRain = min(listRainfall)\n",
    "    maxRain = max(listRainfall)\n",
    "    return (minRain, maxRain)\n",
    "\n",
    "amountDays = int(input(\"How many days do you want the rainfall measures to be assigned to? \"))\n",
    "for i in range(0,amountDays):\n",
    "    listRainfall.append(float(input(f\"Enter the value for the day {i+1}: \")))\n",
    "    i = i+1\n",
    "\n",
    "print(listRainfall)\n",
    "result = fMaxMin(listRainfall)\n",
    "print (f'The minimum and maximum rainfall values are:{result}')\n",
    "\n",
    "## Your code here up"
   ]
  },
  {
   "cell_type": "markdown",
   "metadata": {},
   "source": [
    "## Exercise 9: Pest Control"
   ]
  },
  {
   "cell_type": "markdown",
   "metadata": {},
   "source": [
    "Create a function that takes the count of pests detected in a field and returns a recommendation for pest control based on the count. Please search for pests and pest control measures. Keys: if-else statement"
   ]
  },
  {
   "cell_type": "code",
   "execution_count": 30,
   "metadata": {},
   "outputs": [
    {
     "name": "stdout",
     "output_type": "stream",
     "text": [
      "How many mouths were detected? 1200\n",
      "For 1200 mouths collected the risk level is moderate. Infestations likely, canola fields should be sampled regularly for larvae and for evidence of damage.\n"
     ]
    }
   ],
   "source": [
    "## Your code here down\n",
    "## I considered Bertha armyworm (Mamestra configurata) pest to this question. This pest is a big problem in Canola fields.\n",
    "## https://www.alberta.ca/bertha-armyworm-overview\n",
    "\n",
    "def fRecomm(amount):\n",
    "    if amount <= 300:\n",
    "        return ('risk level is low. Infestations are unlikely to be widespread, but fields should be inspected for signs of insects or damage.')\n",
    "    elif amount >300 and amount <= 900:\n",
    "        return ('risk level is uncertain. Infestations may not be widespread, but fields that were particularly attractive to egg-laying females could be infested. Check fields.')\n",
    "    elif amount > 900 and amount <= 1200:\n",
    "        return ('risk level is moderate. Infestations likely, canola fields should be sampled regularly for larvae and for evidence of damage.')\n",
    "    else:\n",
    "        return ('risk level is high. Infestations very likely, canola fields should be sampled frequently for larvae and for evidence of damage.')\n",
    "\n",
    "amount = int(input('How many mouths were detected? '))\n",
    "recommendation = fRecomm(amount)\n",
    "print (f'For {amount} mouths collected the {recommendation}')\n",
    "## Your code here up"
   ]
  },
  {
   "cell_type": "markdown",
   "metadata": {},
   "source": [
    "## Exercise 10: Weed Control"
   ]
  },
  {
   "cell_type": "markdown",
   "metadata": {},
   "source": [
    "Create a function that takes a list of weed names and suggests appropriate herbicides for weed control. Keys: For Loops and dictionary."
   ]
  },
  {
   "cell_type": "code",
   "execution_count": 28,
   "metadata": {},
   "outputs": [
    {
     "name": "stdout",
     "output_type": "stream",
     "text": [
      "Do you want information on how many weeds? 3\n",
      "Enter the name of the weed: Dandelion\n",
      "Enter the name of the weed: Yellow Toadflax\n",
      "Enter the name of the weed: Green Foxtail\n",
      "The respectives herbicides:  ['2,4-D based herbicides', 'Picloram-based herbicides', 'Dicamba-based herbicides']\n"
     ]
    }
   ],
   "source": [
    "## Your code here down\n",
    "listWeed = []\n",
    "listHerb = []\n",
    "def fWeedNames(listWeed):\n",
    "    d = {\"Dandelion\": \"2,4-D based herbicides\", \"Canada Goosefoot\": \"Atrazine-based herbicides\", \n",
    "         \"Common Chickweed\": \"CPA-based herbicides\", \"Yellow Toadflax\": \"Picloram-based herbicides\", \n",
    "         \"Green Foxtail\":\"Dicamba-based herbicides\"}\n",
    "    for j in range(0,len(listWeed)):\n",
    "        if listWeed[j] in d.keys():\n",
    "            listHerb.append (d.setdefault(listWeed[j]))\n",
    "        else:\n",
    "            return \"One or more herbicides didn't find\"\n",
    "    return listHerb\n",
    "\n",
    "amountWeeds = int(input(\"Do you want information on how many weeds? \"))\n",
    "for i in range(0,amountWeeds):\n",
    "    listWeed.append(str(input(\"Enter the name of the weed: \")))\n",
    "    i = i+1\n",
    "listHerb = fWeedNames (listWeed)\n",
    "\n",
    "#print (\"The weeds: \", listWeed)\n",
    "print (\"The respectives herbicides: \", listHerb)\n",
    "\n",
    "## Your code here up"
   ]
  },
  {
   "cell_type": "code",
   "execution_count": null,
   "metadata": {},
   "outputs": [],
   "source": []
  }
 ],
 "metadata": {
  "kernelspec": {
   "display_name": "Python 3 (ipykernel)",
   "language": "python",
   "name": "python3"
  },
  "language_info": {
   "codemirror_mode": {
    "name": "ipython",
    "version": 3
   },
   "file_extension": ".py",
   "mimetype": "text/x-python",
   "name": "python",
   "nbconvert_exporter": "python",
   "pygments_lexer": "ipython3",
   "version": "3.11.4"
  }
 },
 "nbformat": 4,
 "nbformat_minor": 2
}
