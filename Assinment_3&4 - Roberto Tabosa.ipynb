{
 "cells": [
  {
   "cell_type": "markdown",
   "metadata": {},
   "source": [
    "# Assignment 3"
   ]
  },
  {
   "cell_type": "markdown",
   "metadata": {},
   "source": [
    "**Please follow the instructions. Do not add new cell! Write your code in designated areas.**"
   ]
  },
  {
   "cell_type": "code",
   "execution_count": 1,
   "metadata": {},
   "outputs": [
    {
     "name": "stdout",
     "output_type": "stream",
     "text": [
      "Assignment 1 & 2: Solutions by Roberto Tabosa\n",
      "Local Time: 2023-09-24 14:15:19\n",
      "Computer ID: MacBook-Pro.local\n"
     ]
    }
   ],
   "source": [
    "import datetime\n",
    "import socket\n",
    "\n",
    "# Get local time\n",
    "local_time = datetime.datetime.now().strftime(\"%Y-%m-%d %H:%M:%S\")\n",
    "\n",
    "# Get computer ID or hostname\n",
    "computer_id = socket.gethostname()\n",
    "\n",
    "# Print output with local time and computer ID\n",
    "print('Assignment 1 & 2: Solutions by Roberto Tabosa') # Please change your name here\n",
    "print('Local Time:', local_time)\n",
    "print('Computer ID:', computer_id)"
   ]
  },
  {
   "cell_type": "markdown",
   "metadata": {},
   "source": [
    "## NumPy"
   ]
  },
  {
   "cell_type": "markdown",
   "metadata": {},
   "source": [
    "1. Create a 2D numpy array of size 4x5 with random integers between 1 and 10. Find the maximum value of the entire array. \n"
   ]
  },
  {
   "cell_type": "code",
   "execution_count": 2,
   "metadata": {},
   "outputs": [
    {
     "name": "stdout",
     "output_type": "stream",
     "text": [
      "[[ 3  9 10  9  8]\n",
      " [ 9  1  1  5 10]\n",
      " [10  4  1 10  3]\n",
      " [ 8  4  9  8  3]]\n",
      "Maximum Value in this array is: 10\n",
      "The mean is: 6.25\n",
      "The standard deviation in axis Y is: [2.48193473 3.81575681 3.72021505 2.41660919]\n",
      "The standard deviation in axis X is: [2.6925824  2.87228132 4.26468053 1.87082869 3.082207  ]\n"
     ]
    }
   ],
   "source": [
    "## Your code here down\n",
    "import numpy as np\n",
    "arrayRandom = np.random.randint(1, 11, size=(4, 5))\n",
    "print (arrayRandom)\n",
    "print (f\"Maximum Value in this array is: {np.max(arrayRandom)}\")\n",
    "print (f\"The mean is: {np.mean(arrayRandom)}\")\n",
    "print (f\"The standard deviation in axis Y is: {np.std(arrayRandom, -1)}\")\n",
    "print (f\"The standard deviation in axis X is: {np.std(arrayRandom, 0)}\")\n",
    "\n",
    "# print(mean)\n",
    "#print(std) and so on\n",
    "## Your code here up"
   ]
  },
  {
   "cell_type": "markdown",
   "metadata": {},
   "source": [
    "2. Create a 1D numpy array of size 20 with random floats between 0 and 1. Reshape the array into a 4x5 matrix. Compute the mean of each row."
   ]
  },
  {
   "cell_type": "code",
   "execution_count": 4,
   "metadata": {},
   "outputs": [
    {
     "name": "stdout",
     "output_type": "stream",
     "text": [
      "[0.86620716 0.65735731 0.93829602 0.46495392 0.98264854 0.95579631\n",
      " 0.6730285  0.6283306  0.99769054 0.82836449 0.25571034 0.8465557\n",
      " 0.97347768 0.49980088 0.04232913 0.30582558 0.51447365 0.5241096\n",
      " 0.34622363 0.33331818]\n",
      "After reshape: [[0.86620716 0.65735731 0.93829602 0.46495392 0.98264854]\n",
      " [0.95579631 0.6730285  0.6283306  0.99769054 0.82836449]\n",
      " [0.25571034 0.8465557  0.97347768 0.49980088 0.04232913]\n",
      " [0.30582558 0.51447365 0.5241096  0.34622363 0.33331818]]\n"
     ]
    },
    {
     "data": {
      "text/plain": [
       "array([0.78189259, 0.81664209, 0.52357475, 0.40479013])"
      ]
     },
     "execution_count": 4,
     "metadata": {},
     "output_type": "execute_result"
    }
   ],
   "source": [
    "## Your code here down\n",
    "arrayRandom2 = np.random.rand (20)\n",
    "print (arrayRandom2)\n",
    "\n",
    "arrayRandom2R = arrayRandom2.reshape (4,5)\n",
    "print (f\"After reshape: {arrayRandom2R}\")\n",
    "np.mean (arrayRandom2R, axis = 1)\n",
    "\n",
    "\n",
    "## Your code here up"
   ]
  },
  {
   "cell_type": "markdown",
   "metadata": {},
   "source": [
    "3. Create a 2D numpy array of size 5x5 with random integers between 1 and 100. Compute standard deviation of each column."
   ]
  },
  {
   "cell_type": "code",
   "execution_count": 5,
   "metadata": {},
   "outputs": [
    {
     "name": "stdout",
     "output_type": "stream",
     "text": [
      "[[63 38 69 88  3]\n",
      " [37 66 74 30 53]\n",
      " [45  9 27 42 34]\n",
      " [31 75 51  1  4]\n",
      " [88  7 82 96 70]]\n"
     ]
    },
    {
     "data": {
      "text/plain": [
       "array([20.6339526 , 28.10693865, 19.64281039, 35.81954774, 26.49830183])"
      ]
     },
     "execution_count": 5,
     "metadata": {},
     "output_type": "execute_result"
    }
   ],
   "source": [
    "## Your code here down\n",
    "array55 = np.random.randint (1, 101, size = (5,5))\n",
    "print (array55)\n",
    "np.std (array55, axis = 0)\n",
    "\n",
    "## Your code here up"
   ]
  },
  {
   "cell_type": "markdown",
   "metadata": {},
   "source": [
    "4. Create a 1D numpy array of size 15 with random floats between -10 and 10. Replace all negative values with their absolute values."
   ]
  },
  {
   "cell_type": "code",
   "execution_count": 6,
   "metadata": {},
   "outputs": [
    {
     "name": "stdout",
     "output_type": "stream",
     "text": [
      "[-2.14864512  7.94024716 -5.2131801   4.92634607 -3.57339979  4.86528837\n",
      "  8.20244428  2.75455529 -5.22773571  8.98686445 -8.99052519 -8.8433675\n",
      " -9.26946194 -4.25569974 -6.46172398]\n",
      "[2.14864512 7.94024716 5.2131801  4.92634607 3.57339979 4.86528837\n",
      " 8.20244428 2.75455529 5.22773571 8.98686445 8.99052519 8.8433675\n",
      " 9.26946194 4.25569974 6.46172398]\n"
     ]
    }
   ],
   "source": [
    "## Your code here down\n",
    "array15 = np.random.uniform(-10,10,15)\n",
    "print(array15)\n",
    "\n",
    "array15Ab =  np.absolute (array15)\n",
    "print (array15Ab)\n",
    "\n",
    "## Your code here up"
   ]
  },
  {
   "cell_type": "markdown",
   "metadata": {},
   "source": [
    "5. Create a 2D numpy array of size 3x4 with random integers between 1 and 100. Calculate the sum of all elements in the array."
   ]
  },
  {
   "cell_type": "code",
   "execution_count": 7,
   "metadata": {},
   "outputs": [
    {
     "name": "stdout",
     "output_type": "stream",
     "text": [
      "[[46 43 69 15]\n",
      " [89  9 73 89]\n",
      " [94 75 67 31]]\n"
     ]
    },
    {
     "data": {
      "text/plain": [
       "700"
      ]
     },
     "execution_count": 7,
     "metadata": {},
     "output_type": "execute_result"
    }
   ],
   "source": [
    "## Your code here down\n",
    "array100 = np.random.randint (1,100, size = (3,4))\n",
    "print(array100)\n",
    "np.sum(array100)\n",
    "\n",
    "## Your code here up"
   ]
  },
  {
   "cell_type": "markdown",
   "metadata": {},
   "source": [
    "7. Create a 2D numpy array of size 4x6 with random floats between 0 and 1. Normalize each column by subtracting the column mean and dividing by the column standard deviation."
   ]
  },
  {
   "cell_type": "code",
   "execution_count": 8,
   "metadata": {},
   "outputs": [
    {
     "name": "stdout",
     "output_type": "stream",
     "text": [
      "[[0.25999152 0.69075545 0.56380289 0.49406685 0.61293281 0.89820516]\n",
      " [0.4314157  0.81339544 0.35628879 0.62562748 0.7196746  0.74948294]\n",
      " [0.99714996 0.72150225 0.49970967 0.34564717 0.69088247 0.40380871]\n",
      " [0.79393406 0.99900353 0.02683165 0.2150223  0.03932346 0.87383616]]\n",
      "\n",
      "\n",
      "[0.62062281 0.80616417 0.36165825 0.42009095 0.51570334 0.73133324]\n",
      "\n",
      "[0.2905442  0.12013131 0.20739957 0.1543638  0.2777964  0.19732907]\n",
      "\n",
      "\n",
      "The data normalized are:\n",
      " [[-1.24122692 -0.96068812  0.97466276  0.47923089  0.35000265  0.845653  ]\n",
      " [-0.65121626  0.06019476 -0.02588944  1.33150736  0.73424733  0.09197679]\n",
      " [ 1.29593757 -0.70474484  0.66563018 -0.48226193  0.6306026  -1.65978854]\n",
      " [ 0.59650561  1.60523819 -1.61440351 -1.32847632 -1.71485258  0.72215875]]\n"
     ]
    }
   ],
   "source": [
    "## Your code here down\n",
    "array46 = np.random.rand (4, 6)\n",
    "print (array46)\n",
    "print(\"\\n\")\n",
    "\n",
    "mdColum = np.mean(array46, axis = 0)\n",
    "print (mdColum)\n",
    "print()\n",
    "\n",
    "stdColum = np.std (array46, axis = 0)\n",
    "print (stdColum)\n",
    "print(\"\\n\")\n",
    "\n",
    "array46 = (array46 - mdColum)/stdColum\n",
    "print (f\"The data normalized are:\\n {array46}\")\n",
    "\n",
    "## Your code here up"
   ]
  },
  {
   "cell_type": "markdown",
   "metadata": {},
   "source": [
    "8. Create a 2D numpy array of size 10x10 with random integers between 1 and 100. Replace all values greater than 50 with 1 and all other values with 0."
   ]
  },
  {
   "cell_type": "code",
   "execution_count": 9,
   "metadata": {},
   "outputs": [
    {
     "name": "stdout",
     "output_type": "stream",
     "text": [
      "[[ 1 21  2  3 11 29 73 91  1 86]\n",
      " [96 44 54 54 74 11 97 61 73  5]\n",
      " [36 88 57 34 30 14 66 61  8 19]\n",
      " [71 67  5 39 52 55 23 42 65 72]\n",
      " [82 50 66 73 41 45 28 35 77 14]\n",
      " [95 20 40 85 51 51 23 96  5 48]\n",
      " [79 63 20 98  4  2 85 59 78 14]\n",
      " [92 26 34 31 94 66 50 97 94 96]\n",
      " [40 48 58 91 60 20 70 81 98 42]\n",
      " [94 32 48 65 73 79  7 26 65 60]]\n",
      "\n",
      "\n"
     ]
    },
    {
     "data": {
      "text/plain": [
       "array([[0, 0, 0, 0, 0, 0, 1, 1, 0, 1],\n",
       "       [1, 0, 1, 1, 1, 0, 1, 1, 1, 0],\n",
       "       [0, 1, 1, 0, 0, 0, 1, 1, 0, 0],\n",
       "       [1, 1, 0, 0, 1, 1, 0, 0, 1, 1],\n",
       "       [1, 0, 1, 1, 0, 0, 0, 0, 1, 0],\n",
       "       [1, 0, 0, 1, 1, 1, 0, 1, 0, 0],\n",
       "       [1, 1, 0, 1, 0, 0, 1, 1, 1, 0],\n",
       "       [1, 0, 0, 0, 1, 1, 0, 1, 1, 1],\n",
       "       [0, 0, 1, 1, 1, 0, 1, 1, 1, 0],\n",
       "       [1, 0, 0, 1, 1, 1, 0, 0, 1, 1]])"
      ]
     },
     "execution_count": 9,
     "metadata": {},
     "output_type": "execute_result"
    }
   ],
   "source": [
    "## Your code here down\n",
    "array1010 = np.random.randint(1, 100, size = (10, 10))\n",
    "print(array1010)\n",
    "print(\"\\n\")\n",
    "\n",
    "np.where (array1010 > 50, 1, 0)\n",
    "\n",
    "## Your code here up"
   ]
  },
  {
   "cell_type": "markdown",
   "metadata": {},
   "source": [
    "9. Create a 1D numpy array of size 50 with random floats between 0 and 1. Find the number of elements greater than 0.5."
   ]
  },
  {
   "cell_type": "code",
   "execution_count": 110,
   "metadata": {},
   "outputs": [
    {
     "name": "stdout",
     "output_type": "stream",
     "text": [
      "[0.39679176 0.19663675 0.96403682 0.747816   0.87780525 0.90171468\n",
      " 0.82513898 0.93506117 0.15930307 0.23452652 0.89437784 0.09973618\n",
      " 0.2468106  0.02064335 0.44251248 0.91995227 0.37764038 0.07737466\n",
      " 0.40565304 0.19793739 0.57114399 0.05013745 0.94845234 0.57899522\n",
      " 0.33596454 0.09219322 0.24633717 0.46213953 0.42962236 0.46588037\n",
      " 0.79667817 0.59567915 0.15671117 0.39444189 0.56623728 0.87717263\n",
      " 0.67850193 0.51294513 0.47778072 0.39315465 0.51239165 0.68351708\n",
      " 0.18856918 0.0065436  0.21358458 0.31218981 0.71115116 0.39904989\n",
      " 0.54323836 0.3361452 ]\n",
      "\n",
      "\n",
      "[0.96403682 0.747816   0.87780525 0.90171468 0.82513898 0.93506117\n",
      " 0.89437784 0.91995227 0.57114399 0.94845234 0.57899522 0.79667817\n",
      " 0.59567915 0.56623728 0.87717263 0.67850193 0.51294513 0.51239165\n",
      " 0.68351708 0.71115116 0.54323836]\n"
     ]
    },
    {
     "data": {
      "text/plain": [
       "21"
      ]
     },
     "execution_count": 110,
     "metadata": {},
     "output_type": "execute_result"
    }
   ],
   "source": [
    "## Your code here down\n",
    "array50 = np.random.rand (50)\n",
    "print(array50)\n",
    "print(\"\\n\")\n",
    "\n",
    "print (array50[array50 > 0.5])\n",
    "len(array50[array50 > 0.5])\n",
    "\n",
    "\n",
    "## Your code here up"
   ]
  },
  {
   "cell_type": "markdown",
   "metadata": {},
   "source": [
    "10. Create a 2D numpy array of size 5x5 with random floats between -1 and 1. Find the absolute difference between the maximum and minimum values in each row."
   ]
  },
  {
   "cell_type": "code",
   "execution_count": 112,
   "metadata": {},
   "outputs": [
    {
     "name": "stdout",
     "output_type": "stream",
     "text": [
      "[[ 0.4961433  -0.40784154  0.91727608 -0.05348653  0.80903653]\n",
      " [ 0.02319956 -0.10053507  0.99155655 -0.18035908 -0.32142647]\n",
      " [ 0.34045052 -0.26094103 -0.65937183 -0.70749208  0.9556082 ]\n",
      " [-0.86324313 -0.33823341  0.03324213 -0.1319343   0.59618111]\n",
      " [-0.43718324 -0.46467218  0.72115826 -0.65422485 -0.62354239]]\n",
      "\n",
      "\n",
      "[0.91727608 0.99155655 0.9556082  0.59618111 0.72115826]\n",
      "\n",
      "\n",
      "[-0.40784154 -0.32142647 -0.70749208 -0.86324313 -0.65422485]\n",
      "\n",
      "\n"
     ]
    },
    {
     "data": {
      "text/plain": [
       "array([1.32511762, 1.31298301, 1.66310028, 1.45942424, 1.37538312])"
      ]
     },
     "execution_count": 112,
     "metadata": {},
     "output_type": "execute_result"
    }
   ],
   "source": [
    "## Your code here down\n",
    "array2D55 = np.random.uniform (-1, 1, size = (5,5))\n",
    "print (array2D55)\n",
    "print(\"\\n\")\n",
    "maxValue = array2D55.max(axis = 1)\n",
    "print(maxValue)\n",
    "print (\"\\n\")\n",
    "minValue = array2D55.min (axis = 1)\n",
    "print (minValue)\n",
    "print (\"\\n\")\n",
    "\n",
    "np.abs (maxValue - minValue)\n",
    "\n",
    "## Your code here up"
   ]
  },
  {
   "cell_type": "markdown",
   "metadata": {},
   "source": [
    "## Pandas"
   ]
  },
  {
   "cell_type": "markdown",
   "metadata": {},
   "source": [
    "Please refer the dataframe (farm data) we have created in the training. Please copy that cell and paste it below before starting this part. "
   ]
  },
  {
   "cell_type": "code",
   "execution_count": 12,
   "metadata": {},
   "outputs": [],
   "source": [
    "import random\n",
    "import pandas as pd\n",
    "\n",
    "# Define the range for longitude and latitude\n",
    "lon_range = (-105, -100)\n",
    "lat_range = (50, 52)\n",
    "\n",
    "# Define the list of soil types\n",
    "soil_types = ['black', 'gray', 'dark brown', 'brown', None]\n",
    "\n",
    "# Create an empty list to store the farms\n",
    "farms = []\n",
    "\n",
    "# Generate 40 farms\n",
    "for i in range(200):\n",
    "    farm = {\n",
    "        'farm_name': f'Farm {i+1}', # f is formated string\n",
    "        'farm_lon': round(random.uniform(lon_range[0], lon_range[1]), 2), # random lon with 2 decimal points\n",
    "        'farm_lat': round(random.uniform(lat_range[0], lat_range[1]), 2), # rantom lat with 2 decimal points\n",
    "        'temperature': round(random.uniform(18, 33), 1), #random temp with 1 decimal points\n",
    "        'precipitation': round(random.uniform(20, 90), 1), # random prec with 1 decimal points\n",
    "        'soil_type': random.choice(soil_types) # random soil types from above list\n",
    "    }\n",
    "    farms.append(farm)"
   ]
  },
  {
   "cell_type": "code",
   "execution_count": 13,
   "metadata": {},
   "outputs": [
    {
     "name": "stdout",
     "output_type": "stream",
     "text": [
      "    farm_name  farm_lon  farm_lat  temperature  precipitation   soil_type\n",
      "0      Farm 1   -102.86     50.43         19.8           57.9        None\n",
      "1      Farm 2   -104.61     51.89         25.2           68.4       brown\n",
      "2      Farm 3   -103.74     51.77         31.7           73.3       black\n",
      "3      Farm 4   -104.20     50.55         20.4           83.5       black\n",
      "4      Farm 5   -103.36     51.95         22.9           46.1        None\n",
      "..        ...       ...       ...          ...            ...         ...\n",
      "195  Farm 196   -101.55     51.11         20.4           21.9        None\n",
      "196  Farm 197   -100.58     50.33         29.3           88.8       brown\n",
      "197  Farm 198   -101.02     51.77         30.1           37.6       brown\n",
      "198  Farm 199   -103.43     50.52         31.2           65.0       black\n",
      "199  Farm 200   -104.39     50.33         21.2           69.9  dark brown\n",
      "\n",
      "[200 rows x 6 columns]\n"
     ]
    }
   ],
   "source": [
    "# your code here\n",
    "df = pd.DataFrame (farms)\n",
    "print (df)"
   ]
  },
  {
   "cell_type": "markdown",
   "metadata": {},
   "source": [
    "1. Select the rows where the temperature is above 20 degrees Celsius."
   ]
  },
  {
   "cell_type": "code",
   "execution_count": 17,
   "metadata": {},
   "outputs": [
    {
     "data": {
      "text/html": [
       "<div>\n",
       "<style scoped>\n",
       "    .dataframe tbody tr th:only-of-type {\n",
       "        vertical-align: middle;\n",
       "    }\n",
       "\n",
       "    .dataframe tbody tr th {\n",
       "        vertical-align: top;\n",
       "    }\n",
       "\n",
       "    .dataframe thead th {\n",
       "        text-align: right;\n",
       "    }\n",
       "</style>\n",
       "<table border=\"1\" class=\"dataframe\">\n",
       "  <thead>\n",
       "    <tr style=\"text-align: right;\">\n",
       "      <th></th>\n",
       "      <th>farm_name</th>\n",
       "      <th>farm_lon</th>\n",
       "      <th>farm_lat</th>\n",
       "      <th>temperature</th>\n",
       "      <th>precipitation</th>\n",
       "      <th>soil_type</th>\n",
       "    </tr>\n",
       "  </thead>\n",
       "  <tbody>\n",
       "    <tr>\n",
       "      <th>1</th>\n",
       "      <td>Farm 2</td>\n",
       "      <td>-104.61</td>\n",
       "      <td>51.89</td>\n",
       "      <td>25.2</td>\n",
       "      <td>68.4</td>\n",
       "      <td>brown</td>\n",
       "    </tr>\n",
       "    <tr>\n",
       "      <th>2</th>\n",
       "      <td>Farm 3</td>\n",
       "      <td>-103.74</td>\n",
       "      <td>51.77</td>\n",
       "      <td>31.7</td>\n",
       "      <td>73.3</td>\n",
       "      <td>black</td>\n",
       "    </tr>\n",
       "    <tr>\n",
       "      <th>3</th>\n",
       "      <td>Farm 4</td>\n",
       "      <td>-104.20</td>\n",
       "      <td>50.55</td>\n",
       "      <td>20.4</td>\n",
       "      <td>83.5</td>\n",
       "      <td>black</td>\n",
       "    </tr>\n",
       "    <tr>\n",
       "      <th>4</th>\n",
       "      <td>Farm 5</td>\n",
       "      <td>-103.36</td>\n",
       "      <td>51.95</td>\n",
       "      <td>22.9</td>\n",
       "      <td>46.1</td>\n",
       "      <td>None</td>\n",
       "    </tr>\n",
       "    <tr>\n",
       "      <th>5</th>\n",
       "      <td>Farm 6</td>\n",
       "      <td>-103.40</td>\n",
       "      <td>51.66</td>\n",
       "      <td>20.1</td>\n",
       "      <td>29.6</td>\n",
       "      <td>black</td>\n",
       "    </tr>\n",
       "    <tr>\n",
       "      <th>...</th>\n",
       "      <td>...</td>\n",
       "      <td>...</td>\n",
       "      <td>...</td>\n",
       "      <td>...</td>\n",
       "      <td>...</td>\n",
       "      <td>...</td>\n",
       "    </tr>\n",
       "    <tr>\n",
       "      <th>195</th>\n",
       "      <td>Farm 196</td>\n",
       "      <td>-101.55</td>\n",
       "      <td>51.11</td>\n",
       "      <td>20.4</td>\n",
       "      <td>21.9</td>\n",
       "      <td>None</td>\n",
       "    </tr>\n",
       "    <tr>\n",
       "      <th>196</th>\n",
       "      <td>Farm 197</td>\n",
       "      <td>-100.58</td>\n",
       "      <td>50.33</td>\n",
       "      <td>29.3</td>\n",
       "      <td>88.8</td>\n",
       "      <td>brown</td>\n",
       "    </tr>\n",
       "    <tr>\n",
       "      <th>197</th>\n",
       "      <td>Farm 198</td>\n",
       "      <td>-101.02</td>\n",
       "      <td>51.77</td>\n",
       "      <td>30.1</td>\n",
       "      <td>37.6</td>\n",
       "      <td>brown</td>\n",
       "    </tr>\n",
       "    <tr>\n",
       "      <th>198</th>\n",
       "      <td>Farm 199</td>\n",
       "      <td>-103.43</td>\n",
       "      <td>50.52</td>\n",
       "      <td>31.2</td>\n",
       "      <td>65.0</td>\n",
       "      <td>black</td>\n",
       "    </tr>\n",
       "    <tr>\n",
       "      <th>199</th>\n",
       "      <td>Farm 200</td>\n",
       "      <td>-104.39</td>\n",
       "      <td>50.33</td>\n",
       "      <td>21.2</td>\n",
       "      <td>69.9</td>\n",
       "      <td>dark brown</td>\n",
       "    </tr>\n",
       "  </tbody>\n",
       "</table>\n",
       "<p>176 rows × 6 columns</p>\n",
       "</div>"
      ],
      "text/plain": [
       "    farm_name  farm_lon  farm_lat  temperature  precipitation   soil_type\n",
       "1      Farm 2   -104.61     51.89         25.2           68.4       brown\n",
       "2      Farm 3   -103.74     51.77         31.7           73.3       black\n",
       "3      Farm 4   -104.20     50.55         20.4           83.5       black\n",
       "4      Farm 5   -103.36     51.95         22.9           46.1        None\n",
       "5      Farm 6   -103.40     51.66         20.1           29.6       black\n",
       "..        ...       ...       ...          ...            ...         ...\n",
       "195  Farm 196   -101.55     51.11         20.4           21.9        None\n",
       "196  Farm 197   -100.58     50.33         29.3           88.8       brown\n",
       "197  Farm 198   -101.02     51.77         30.1           37.6       brown\n",
       "198  Farm 199   -103.43     50.52         31.2           65.0       black\n",
       "199  Farm 200   -104.39     50.33         21.2           69.9  dark brown\n",
       "\n",
       "[176 rows x 6 columns]"
      ]
     },
     "execution_count": 17,
     "metadata": {},
     "output_type": "execute_result"
    }
   ],
   "source": [
    "## Your code here down\n",
    "df.loc[df[\"temperature\"] > 20]\n",
    "\n",
    "## Your code here up"
   ]
  },
  {
   "cell_type": "markdown",
   "metadata": {},
   "source": [
    "2. Sort the DataFrame by precipitation in descending order."
   ]
  },
  {
   "cell_type": "code",
   "execution_count": 18,
   "metadata": {},
   "outputs": [
    {
     "data": {
      "text/html": [
       "<div>\n",
       "<style scoped>\n",
       "    .dataframe tbody tr th:only-of-type {\n",
       "        vertical-align: middle;\n",
       "    }\n",
       "\n",
       "    .dataframe tbody tr th {\n",
       "        vertical-align: top;\n",
       "    }\n",
       "\n",
       "    .dataframe thead th {\n",
       "        text-align: right;\n",
       "    }\n",
       "</style>\n",
       "<table border=\"1\" class=\"dataframe\">\n",
       "  <thead>\n",
       "    <tr style=\"text-align: right;\">\n",
       "      <th></th>\n",
       "      <th>farm_name</th>\n",
       "      <th>farm_lon</th>\n",
       "      <th>farm_lat</th>\n",
       "      <th>temperature</th>\n",
       "      <th>precipitation</th>\n",
       "      <th>soil_type</th>\n",
       "    </tr>\n",
       "  </thead>\n",
       "  <tbody>\n",
       "    <tr>\n",
       "      <th>158</th>\n",
       "      <td>Farm 159</td>\n",
       "      <td>-102.95</td>\n",
       "      <td>51.40</td>\n",
       "      <td>23.9</td>\n",
       "      <td>90.0</td>\n",
       "      <td>gray</td>\n",
       "    </tr>\n",
       "    <tr>\n",
       "      <th>146</th>\n",
       "      <td>Farm 147</td>\n",
       "      <td>-104.96</td>\n",
       "      <td>51.95</td>\n",
       "      <td>28.6</td>\n",
       "      <td>89.7</td>\n",
       "      <td>None</td>\n",
       "    </tr>\n",
       "    <tr>\n",
       "      <th>173</th>\n",
       "      <td>Farm 174</td>\n",
       "      <td>-103.76</td>\n",
       "      <td>51.57</td>\n",
       "      <td>28.4</td>\n",
       "      <td>89.6</td>\n",
       "      <td>black</td>\n",
       "    </tr>\n",
       "    <tr>\n",
       "      <th>191</th>\n",
       "      <td>Farm 192</td>\n",
       "      <td>-103.46</td>\n",
       "      <td>50.98</td>\n",
       "      <td>32.5</td>\n",
       "      <td>89.6</td>\n",
       "      <td>dark brown</td>\n",
       "    </tr>\n",
       "    <tr>\n",
       "      <th>106</th>\n",
       "      <td>Farm 107</td>\n",
       "      <td>-104.47</td>\n",
       "      <td>51.19</td>\n",
       "      <td>32.4</td>\n",
       "      <td>89.5</td>\n",
       "      <td>None</td>\n",
       "    </tr>\n",
       "    <tr>\n",
       "      <th>...</th>\n",
       "      <td>...</td>\n",
       "      <td>...</td>\n",
       "      <td>...</td>\n",
       "      <td>...</td>\n",
       "      <td>...</td>\n",
       "      <td>...</td>\n",
       "    </tr>\n",
       "    <tr>\n",
       "      <th>195</th>\n",
       "      <td>Farm 196</td>\n",
       "      <td>-101.55</td>\n",
       "      <td>51.11</td>\n",
       "      <td>20.4</td>\n",
       "      <td>21.9</td>\n",
       "      <td>None</td>\n",
       "    </tr>\n",
       "    <tr>\n",
       "      <th>152</th>\n",
       "      <td>Farm 153</td>\n",
       "      <td>-100.60</td>\n",
       "      <td>50.20</td>\n",
       "      <td>31.5</td>\n",
       "      <td>21.7</td>\n",
       "      <td>dark brown</td>\n",
       "    </tr>\n",
       "    <tr>\n",
       "      <th>133</th>\n",
       "      <td>Farm 134</td>\n",
       "      <td>-101.46</td>\n",
       "      <td>50.21</td>\n",
       "      <td>22.6</td>\n",
       "      <td>21.6</td>\n",
       "      <td>gray</td>\n",
       "    </tr>\n",
       "    <tr>\n",
       "      <th>111</th>\n",
       "      <td>Farm 112</td>\n",
       "      <td>-101.87</td>\n",
       "      <td>50.41</td>\n",
       "      <td>20.5</td>\n",
       "      <td>21.1</td>\n",
       "      <td>brown</td>\n",
       "    </tr>\n",
       "    <tr>\n",
       "      <th>15</th>\n",
       "      <td>Farm 16</td>\n",
       "      <td>-103.07</td>\n",
       "      <td>51.05</td>\n",
       "      <td>20.0</td>\n",
       "      <td>20.7</td>\n",
       "      <td>None</td>\n",
       "    </tr>\n",
       "  </tbody>\n",
       "</table>\n",
       "<p>200 rows × 6 columns</p>\n",
       "</div>"
      ],
      "text/plain": [
       "    farm_name  farm_lon  farm_lat  temperature  precipitation   soil_type\n",
       "158  Farm 159   -102.95     51.40         23.9           90.0        gray\n",
       "146  Farm 147   -104.96     51.95         28.6           89.7        None\n",
       "173  Farm 174   -103.76     51.57         28.4           89.6       black\n",
       "191  Farm 192   -103.46     50.98         32.5           89.6  dark brown\n",
       "106  Farm 107   -104.47     51.19         32.4           89.5        None\n",
       "..        ...       ...       ...          ...            ...         ...\n",
       "195  Farm 196   -101.55     51.11         20.4           21.9        None\n",
       "152  Farm 153   -100.60     50.20         31.5           21.7  dark brown\n",
       "133  Farm 134   -101.46     50.21         22.6           21.6        gray\n",
       "111  Farm 112   -101.87     50.41         20.5           21.1       brown\n",
       "15    Farm 16   -103.07     51.05         20.0           20.7        None\n",
       "\n",
       "[200 rows x 6 columns]"
      ]
     },
     "execution_count": 18,
     "metadata": {},
     "output_type": "execute_result"
    }
   ],
   "source": [
    "## Your code here down\n",
    "df.sort_values(\"precipitation\", ascending = False)\n",
    "\n",
    "## Your code here up"
   ]
  },
  {
   "cell_type": "markdown",
   "metadata": {},
   "source": [
    "3. Filter the DataFrame to include only the farms located within latitude (51.15 & 51.00) range."
   ]
  },
  {
   "cell_type": "code",
   "execution_count": 19,
   "metadata": {},
   "outputs": [
    {
     "data": {
      "text/html": [
       "<div>\n",
       "<style scoped>\n",
       "    .dataframe tbody tr th:only-of-type {\n",
       "        vertical-align: middle;\n",
       "    }\n",
       "\n",
       "    .dataframe tbody tr th {\n",
       "        vertical-align: top;\n",
       "    }\n",
       "\n",
       "    .dataframe thead th {\n",
       "        text-align: right;\n",
       "    }\n",
       "</style>\n",
       "<table border=\"1\" class=\"dataframe\">\n",
       "  <thead>\n",
       "    <tr style=\"text-align: right;\">\n",
       "      <th></th>\n",
       "      <th>farm_name</th>\n",
       "      <th>farm_lon</th>\n",
       "      <th>farm_lat</th>\n",
       "      <th>temperature</th>\n",
       "      <th>precipitation</th>\n",
       "      <th>soil_type</th>\n",
       "    </tr>\n",
       "  </thead>\n",
       "  <tbody>\n",
       "    <tr>\n",
       "      <th>15</th>\n",
       "      <td>Farm 16</td>\n",
       "      <td>-103.07</td>\n",
       "      <td>51.05</td>\n",
       "      <td>20.0</td>\n",
       "      <td>20.7</td>\n",
       "      <td>None</td>\n",
       "    </tr>\n",
       "    <tr>\n",
       "      <th>27</th>\n",
       "      <td>Farm 28</td>\n",
       "      <td>-102.82</td>\n",
       "      <td>51.06</td>\n",
       "      <td>25.7</td>\n",
       "      <td>84.0</td>\n",
       "      <td>black</td>\n",
       "    </tr>\n",
       "    <tr>\n",
       "      <th>28</th>\n",
       "      <td>Farm 29</td>\n",
       "      <td>-101.52</td>\n",
       "      <td>51.05</td>\n",
       "      <td>20.7</td>\n",
       "      <td>80.5</td>\n",
       "      <td>black</td>\n",
       "    </tr>\n",
       "    <tr>\n",
       "      <th>39</th>\n",
       "      <td>Farm 40</td>\n",
       "      <td>-104.36</td>\n",
       "      <td>51.10</td>\n",
       "      <td>26.6</td>\n",
       "      <td>45.3</td>\n",
       "      <td>brown</td>\n",
       "    </tr>\n",
       "    <tr>\n",
       "      <th>67</th>\n",
       "      <td>Farm 68</td>\n",
       "      <td>-103.12</td>\n",
       "      <td>51.09</td>\n",
       "      <td>32.5</td>\n",
       "      <td>28.1</td>\n",
       "      <td>black</td>\n",
       "    </tr>\n",
       "    <tr>\n",
       "      <th>70</th>\n",
       "      <td>Farm 71</td>\n",
       "      <td>-102.64</td>\n",
       "      <td>51.13</td>\n",
       "      <td>31.3</td>\n",
       "      <td>33.0</td>\n",
       "      <td>None</td>\n",
       "    </tr>\n",
       "    <tr>\n",
       "      <th>83</th>\n",
       "      <td>Farm 84</td>\n",
       "      <td>-104.63</td>\n",
       "      <td>51.09</td>\n",
       "      <td>20.3</td>\n",
       "      <td>86.3</td>\n",
       "      <td>black</td>\n",
       "    </tr>\n",
       "    <tr>\n",
       "      <th>107</th>\n",
       "      <td>Farm 108</td>\n",
       "      <td>-104.11</td>\n",
       "      <td>51.13</td>\n",
       "      <td>23.7</td>\n",
       "      <td>26.1</td>\n",
       "      <td>None</td>\n",
       "    </tr>\n",
       "    <tr>\n",
       "      <th>149</th>\n",
       "      <td>Farm 150</td>\n",
       "      <td>-102.36</td>\n",
       "      <td>51.09</td>\n",
       "      <td>28.7</td>\n",
       "      <td>65.4</td>\n",
       "      <td>dark brown</td>\n",
       "    </tr>\n",
       "    <tr>\n",
       "      <th>157</th>\n",
       "      <td>Farm 158</td>\n",
       "      <td>-101.13</td>\n",
       "      <td>51.14</td>\n",
       "      <td>30.8</td>\n",
       "      <td>38.3</td>\n",
       "      <td>dark brown</td>\n",
       "    </tr>\n",
       "    <tr>\n",
       "      <th>171</th>\n",
       "      <td>Farm 172</td>\n",
       "      <td>-100.30</td>\n",
       "      <td>51.10</td>\n",
       "      <td>29.8</td>\n",
       "      <td>54.9</td>\n",
       "      <td>black</td>\n",
       "    </tr>\n",
       "    <tr>\n",
       "      <th>195</th>\n",
       "      <td>Farm 196</td>\n",
       "      <td>-101.55</td>\n",
       "      <td>51.11</td>\n",
       "      <td>20.4</td>\n",
       "      <td>21.9</td>\n",
       "      <td>None</td>\n",
       "    </tr>\n",
       "  </tbody>\n",
       "</table>\n",
       "</div>"
      ],
      "text/plain": [
       "    farm_name  farm_lon  farm_lat  temperature  precipitation   soil_type\n",
       "15    Farm 16   -103.07     51.05         20.0           20.7        None\n",
       "27    Farm 28   -102.82     51.06         25.7           84.0       black\n",
       "28    Farm 29   -101.52     51.05         20.7           80.5       black\n",
       "39    Farm 40   -104.36     51.10         26.6           45.3       brown\n",
       "67    Farm 68   -103.12     51.09         32.5           28.1       black\n",
       "70    Farm 71   -102.64     51.13         31.3           33.0        None\n",
       "83    Farm 84   -104.63     51.09         20.3           86.3       black\n",
       "107  Farm 108   -104.11     51.13         23.7           26.1        None\n",
       "149  Farm 150   -102.36     51.09         28.7           65.4  dark brown\n",
       "157  Farm 158   -101.13     51.14         30.8           38.3  dark brown\n",
       "171  Farm 172   -100.30     51.10         29.8           54.9       black\n",
       "195  Farm 196   -101.55     51.11         20.4           21.9        None"
      ]
     },
     "execution_count": 19,
     "metadata": {},
     "output_type": "execute_result"
    }
   ],
   "source": [
    "## Your code here down\n",
    "df[(df[\"farm_lat\"] >= 51.00) & (df[\"farm_lat\"] <= 51.15)]\n",
    "\n",
    "## Your code here up"
   ]
  },
  {
   "cell_type": "markdown",
   "metadata": {},
   "source": [
    " 4. Calculate the standard deviation of precipitation for each soil type."
   ]
  },
  {
   "cell_type": "code",
   "execution_count": 20,
   "metadata": {},
   "outputs": [
    {
     "name": "stdout",
     "output_type": "stream",
     "text": [
      "soil_type\n",
      "black         20.323582\n",
      "brown         19.862441\n",
      "dark brown    22.877268\n",
      "gray          22.106492\n",
      "Name: precipitation, dtype: float64\n"
     ]
    }
   ],
   "source": [
    "## Your code here down\n",
    "df.head(5)\n",
    "\n",
    "stdSoil = df.groupby('soil_type')['precipitation'].std()\n",
    "print (stdSoil)\n",
    "\n",
    "## Your code here up"
   ]
  },
  {
   "cell_type": "markdown",
   "metadata": {},
   "source": [
    "5. Calculate the cumulative sum of precipitation for each soil type."
   ]
  },
  {
   "cell_type": "code",
   "execution_count": 21,
   "metadata": {},
   "outputs": [
    {
     "name": "stdout",
     "output_type": "stream",
     "text": [
      "soil_type\n",
      "black         2676.9\n",
      "brown         2579.5\n",
      "dark brown    1809.8\n",
      "gray          1849.3\n",
      "Name: precipitation, dtype: float64\n"
     ]
    }
   ],
   "source": [
    "## Your code here down\n",
    "df.head(5)\n",
    "\n",
    "sumPrec = df.groupby(\"soil_type\")[\"precipitation\"].sum()\n",
    "print(sumPrec)\n",
    "\n",
    "## Your code here up"
   ]
  },
  {
   "cell_type": "markdown",
   "metadata": {},
   "source": [
    "6. Determine the top 3 farms with the highest average temperature."
   ]
  },
  {
   "cell_type": "code",
   "execution_count": 113,
   "metadata": {},
   "outputs": [
    {
     "name": "stdout",
     "output_type": "stream",
     "text": [
      "    farm_name  farm_lon  farm_lat  temperature  precipitation   soil_type  \\\n",
      "31    Farm 32   -101.48     50.20         32.9           86.3       black   \n",
      "7      Farm 8   -103.76     51.24         32.8           74.0        <NA>   \n",
      "121  Farm 122   -102.54     51.88         32.8           32.6       brown   \n",
      "122  Farm 123   -100.35     50.41         32.7           38.0       black   \n",
      "51    Farm 52   -102.47     51.53         32.7           51.5       black   \n",
      "..        ...       ...       ...          ...            ...         ...   \n",
      "23    Farm 24   -103.03     51.75         18.4           40.3       brown   \n",
      "36    Farm 37   -100.13     51.59         18.2           31.0  dark brown   \n",
      "60    Farm 61   -104.08     50.41         18.2           32.9  dark brown   \n",
      "166  Farm 167   -104.45     51.59         18.1           39.5        gray   \n",
      "147  Farm 148   -104.47     51.45         18.0           67.9       black   \n",
      "\n",
      "     percentage_tot_prec  precipitation_rank  Temperature_adjusted  \n",
      "31              0.007607               181.0              1.000000  \n",
      "7               0.006522               149.0              0.993289  \n",
      "121             0.002873                36.0              0.993289  \n",
      "122             0.003349                48.0              0.986577  \n",
      "51              0.004539                90.0              0.986577  \n",
      "..                   ...                 ...                   ...  \n",
      "23              0.003552                61.0              0.026846  \n",
      "36              0.002732                33.0              0.013423  \n",
      "60              0.002900                38.0              0.013423  \n",
      "166             0.003482                54.0              0.006711  \n",
      "147             0.005985               122.0              0.000000  \n",
      "\n",
      "[200 rows x 9 columns]\n",
      " \n",
      " The 3 farms that had higher temperatures were: \n",
      " \n",
      "     farm_name  farm_lon  farm_lat  temperature  precipitation soil_type  \\\n",
      "31    Farm 32   -101.48     50.20         32.9           86.3     black   \n",
      "7      Farm 8   -103.76     51.24         32.8           74.0      <NA>   \n",
      "121  Farm 122   -102.54     51.88         32.8           32.6     brown   \n",
      "\n",
      "     percentage_tot_prec  precipitation_rank  Temperature_adjusted  \n",
      "31              0.007607               181.0              1.000000  \n",
      "7               0.006522               149.0              0.993289  \n",
      "121             0.002873                36.0              0.993289  \n"
     ]
    }
   ],
   "source": [
    "## Your code here down\n",
    "#df.loc[df[\"farm_name\"] == \"Farm 1\"]\n",
    "\n",
    "farmSort = df.sort_values(\"temperature\", ascending = False)\n",
    "print(farmSort)\n",
    "\n",
    "print(f\" \\n The 3 farms that had higher temperatures were: \\n \\n {farmSort.head(3)}\")\n",
    "\n",
    "\n",
    "## Your code here up"
   ]
  },
  {
   "cell_type": "markdown",
   "metadata": {},
   "source": [
    "7. Find famrs in each soil type that have the highest temperature."
   ]
  },
  {
   "cell_type": "code",
   "execution_count": 120,
   "metadata": {},
   "outputs": [
    {
     "name": "stdout",
     "output_type": "stream",
     "text": [
      "            farm_lon  farm_lat  temperature  precipitation  \\\n",
      "soil_type                                                    \n",
      "black        -100.08     51.96         32.9           89.6   \n",
      "brown        -100.10     51.89         32.8           89.4   \n",
      "dark brown   -100.02     51.96         32.5           89.6   \n",
      "gray         -100.27     51.97         32.6           90.0   \n",
      "\n",
      "            percentage_tot_prec  precipitation_rank  Temperature_adjusted  \n",
      "soil_type                                                                  \n",
      "black                  0.007897               197.0              1.000000  \n",
      "brown                  0.007880               194.0              0.993289  \n",
      "dark brown             0.007897               197.0              0.973154  \n",
      "gray                   0.007933               200.0              0.979866  \n"
     ]
    }
   ],
   "source": [
    "## Your code here down\n",
    "\n",
    "# df.groupby ([\"soil_type\"]).max(\"temperature\")\n",
    "y = df.groupby ([\"soil_type\"]).max(\"temperature\")\n",
    "print (y)\n",
    "\n",
    "## Your code here up"
   ]
  },
  {
   "cell_type": "markdown",
   "metadata": {},
   "source": [
    "8. Create new column 'percentage_tot_prec' and add the percentage contribution of each farm's precipitation (relative to total precipitation) to the column."
   ]
  },
  {
   "cell_type": "code",
   "execution_count": 45,
   "metadata": {},
   "outputs": [
    {
     "name": "stdout",
     "output_type": "stream",
     "text": [
      "11345.5\n"
     ]
    },
    {
     "data": {
      "text/html": [
       "<div>\n",
       "<style scoped>\n",
       "    .dataframe tbody tr th:only-of-type {\n",
       "        vertical-align: middle;\n",
       "    }\n",
       "\n",
       "    .dataframe tbody tr th {\n",
       "        vertical-align: top;\n",
       "    }\n",
       "\n",
       "    .dataframe thead th {\n",
       "        text-align: right;\n",
       "    }\n",
       "</style>\n",
       "<table border=\"1\" class=\"dataframe\">\n",
       "  <thead>\n",
       "    <tr style=\"text-align: right;\">\n",
       "      <th></th>\n",
       "      <th>farm_name</th>\n",
       "      <th>farm_lon</th>\n",
       "      <th>farm_lat</th>\n",
       "      <th>temperature</th>\n",
       "      <th>precipitation</th>\n",
       "      <th>soil_type</th>\n",
       "      <th>percentage_tot_prec</th>\n",
       "      <th>precipitation_rank</th>\n",
       "      <th>Temperature_adjusted</th>\n",
       "    </tr>\n",
       "  </thead>\n",
       "  <tbody>\n",
       "    <tr>\n",
       "      <th>0</th>\n",
       "      <td>Farm 1</td>\n",
       "      <td>-102.86</td>\n",
       "      <td>50.43</td>\n",
       "      <td>19.8</td>\n",
       "      <td>57.9</td>\n",
       "      <td>None</td>\n",
       "      <td>0.005103</td>\n",
       "      <td>103.0</td>\n",
       "      <td>0.120805</td>\n",
       "    </tr>\n",
       "    <tr>\n",
       "      <th>1</th>\n",
       "      <td>Farm 2</td>\n",
       "      <td>-104.61</td>\n",
       "      <td>51.89</td>\n",
       "      <td>25.2</td>\n",
       "      <td>68.4</td>\n",
       "      <td>brown</td>\n",
       "      <td>0.006029</td>\n",
       "      <td>126.0</td>\n",
       "      <td>0.483221</td>\n",
       "    </tr>\n",
       "    <tr>\n",
       "      <th>2</th>\n",
       "      <td>Farm 3</td>\n",
       "      <td>-103.74</td>\n",
       "      <td>51.77</td>\n",
       "      <td>31.7</td>\n",
       "      <td>73.3</td>\n",
       "      <td>black</td>\n",
       "      <td>0.006461</td>\n",
       "      <td>146.0</td>\n",
       "      <td>0.919463</td>\n",
       "    </tr>\n",
       "    <tr>\n",
       "      <th>3</th>\n",
       "      <td>Farm 4</td>\n",
       "      <td>-104.20</td>\n",
       "      <td>50.55</td>\n",
       "      <td>20.4</td>\n",
       "      <td>83.5</td>\n",
       "      <td>black</td>\n",
       "      <td>0.007360</td>\n",
       "      <td>172.0</td>\n",
       "      <td>0.161074</td>\n",
       "    </tr>\n",
       "    <tr>\n",
       "      <th>4</th>\n",
       "      <td>Farm 5</td>\n",
       "      <td>-103.36</td>\n",
       "      <td>51.95</td>\n",
       "      <td>22.9</td>\n",
       "      <td>46.1</td>\n",
       "      <td>None</td>\n",
       "      <td>0.004063</td>\n",
       "      <td>77.0</td>\n",
       "      <td>0.328859</td>\n",
       "    </tr>\n",
       "    <tr>\n",
       "      <th>...</th>\n",
       "      <td>...</td>\n",
       "      <td>...</td>\n",
       "      <td>...</td>\n",
       "      <td>...</td>\n",
       "      <td>...</td>\n",
       "      <td>...</td>\n",
       "      <td>...</td>\n",
       "      <td>...</td>\n",
       "      <td>...</td>\n",
       "    </tr>\n",
       "    <tr>\n",
       "      <th>195</th>\n",
       "      <td>Farm 196</td>\n",
       "      <td>-101.55</td>\n",
       "      <td>51.11</td>\n",
       "      <td>20.4</td>\n",
       "      <td>21.9</td>\n",
       "      <td>None</td>\n",
       "      <td>0.001930</td>\n",
       "      <td>5.0</td>\n",
       "      <td>0.161074</td>\n",
       "    </tr>\n",
       "    <tr>\n",
       "      <th>196</th>\n",
       "      <td>Farm 197</td>\n",
       "      <td>-100.58</td>\n",
       "      <td>50.33</td>\n",
       "      <td>29.3</td>\n",
       "      <td>88.8</td>\n",
       "      <td>brown</td>\n",
       "      <td>0.007827</td>\n",
       "      <td>190.0</td>\n",
       "      <td>0.758389</td>\n",
       "    </tr>\n",
       "    <tr>\n",
       "      <th>197</th>\n",
       "      <td>Farm 198</td>\n",
       "      <td>-101.02</td>\n",
       "      <td>51.77</td>\n",
       "      <td>30.1</td>\n",
       "      <td>37.6</td>\n",
       "      <td>brown</td>\n",
       "      <td>0.003314</td>\n",
       "      <td>46.0</td>\n",
       "      <td>0.812081</td>\n",
       "    </tr>\n",
       "    <tr>\n",
       "      <th>198</th>\n",
       "      <td>Farm 199</td>\n",
       "      <td>-103.43</td>\n",
       "      <td>50.52</td>\n",
       "      <td>31.2</td>\n",
       "      <td>65.0</td>\n",
       "      <td>black</td>\n",
       "      <td>0.005729</td>\n",
       "      <td>111.0</td>\n",
       "      <td>0.885906</td>\n",
       "    </tr>\n",
       "    <tr>\n",
       "      <th>199</th>\n",
       "      <td>Farm 200</td>\n",
       "      <td>-104.39</td>\n",
       "      <td>50.33</td>\n",
       "      <td>21.2</td>\n",
       "      <td>69.9</td>\n",
       "      <td>dark brown</td>\n",
       "      <td>0.006161</td>\n",
       "      <td>133.0</td>\n",
       "      <td>0.214765</td>\n",
       "    </tr>\n",
       "  </tbody>\n",
       "</table>\n",
       "<p>200 rows × 9 columns</p>\n",
       "</div>"
      ],
      "text/plain": [
       "    farm_name  farm_lon  farm_lat  temperature  precipitation   soil_type  \\\n",
       "0      Farm 1   -102.86     50.43         19.8           57.9        None   \n",
       "1      Farm 2   -104.61     51.89         25.2           68.4       brown   \n",
       "2      Farm 3   -103.74     51.77         31.7           73.3       black   \n",
       "3      Farm 4   -104.20     50.55         20.4           83.5       black   \n",
       "4      Farm 5   -103.36     51.95         22.9           46.1        None   \n",
       "..        ...       ...       ...          ...            ...         ...   \n",
       "195  Farm 196   -101.55     51.11         20.4           21.9        None   \n",
       "196  Farm 197   -100.58     50.33         29.3           88.8       brown   \n",
       "197  Farm 198   -101.02     51.77         30.1           37.6       brown   \n",
       "198  Farm 199   -103.43     50.52         31.2           65.0       black   \n",
       "199  Farm 200   -104.39     50.33         21.2           69.9  dark brown   \n",
       "\n",
       "     percentage_tot_prec  precipitation_rank  Temperature_adjusted  \n",
       "0               0.005103               103.0              0.120805  \n",
       "1               0.006029               126.0              0.483221  \n",
       "2               0.006461               146.0              0.919463  \n",
       "3               0.007360               172.0              0.161074  \n",
       "4               0.004063                77.0              0.328859  \n",
       "..                   ...                 ...                   ...  \n",
       "195             0.001930                 5.0              0.161074  \n",
       "196             0.007827               190.0              0.758389  \n",
       "197             0.003314                46.0              0.812081  \n",
       "198             0.005729               111.0              0.885906  \n",
       "199             0.006161               133.0              0.214765  \n",
       "\n",
       "[200 rows x 9 columns]"
      ]
     },
     "execution_count": 45,
     "metadata": {},
     "output_type": "execute_result"
    }
   ],
   "source": [
    "## Your code here down\n",
    "totPrec = df[\"precipitation\"].sum ()\n",
    "print (totPrec)\n",
    "df[\"percentage_tot_prec\"] = df [\"precipitation\"] / totPrec\n",
    "df\n",
    "\n",
    "## Your code here up"
   ]
  },
  {
   "cell_type": "markdown",
   "metadata": {},
   "source": [
    "9. Create a new column called \"precipitation_rank\" that ranks the farms based on their precipitation in ascending order, with ties being assigned the same rank."
   ]
  },
  {
   "cell_type": "code",
   "execution_count": 38,
   "metadata": {},
   "outputs": [
    {
     "data": {
      "text/html": [
       "<div>\n",
       "<style scoped>\n",
       "    .dataframe tbody tr th:only-of-type {\n",
       "        vertical-align: middle;\n",
       "    }\n",
       "\n",
       "    .dataframe tbody tr th {\n",
       "        vertical-align: top;\n",
       "    }\n",
       "\n",
       "    .dataframe thead th {\n",
       "        text-align: right;\n",
       "    }\n",
       "</style>\n",
       "<table border=\"1\" class=\"dataframe\">\n",
       "  <thead>\n",
       "    <tr style=\"text-align: right;\">\n",
       "      <th></th>\n",
       "      <th>farm_name</th>\n",
       "      <th>farm_lon</th>\n",
       "      <th>farm_lat</th>\n",
       "      <th>temperature</th>\n",
       "      <th>precipitation</th>\n",
       "      <th>soil_type</th>\n",
       "      <th>percentage_tot_prec</th>\n",
       "      <th>precipitation_rank</th>\n",
       "    </tr>\n",
       "  </thead>\n",
       "  <tbody>\n",
       "    <tr>\n",
       "      <th>15</th>\n",
       "      <td>Farm 16</td>\n",
       "      <td>-103.07</td>\n",
       "      <td>51.05</td>\n",
       "      <td>20.0</td>\n",
       "      <td>20.7</td>\n",
       "      <td>None</td>\n",
       "      <td>0.001825</td>\n",
       "      <td>1.0</td>\n",
       "    </tr>\n",
       "    <tr>\n",
       "      <th>111</th>\n",
       "      <td>Farm 112</td>\n",
       "      <td>-101.87</td>\n",
       "      <td>50.41</td>\n",
       "      <td>20.5</td>\n",
       "      <td>21.1</td>\n",
       "      <td>brown</td>\n",
       "      <td>0.001860</td>\n",
       "      <td>2.0</td>\n",
       "    </tr>\n",
       "    <tr>\n",
       "      <th>133</th>\n",
       "      <td>Farm 134</td>\n",
       "      <td>-101.46</td>\n",
       "      <td>50.21</td>\n",
       "      <td>22.6</td>\n",
       "      <td>21.6</td>\n",
       "      <td>gray</td>\n",
       "      <td>0.001904</td>\n",
       "      <td>3.0</td>\n",
       "    </tr>\n",
       "    <tr>\n",
       "      <th>152</th>\n",
       "      <td>Farm 153</td>\n",
       "      <td>-100.60</td>\n",
       "      <td>50.20</td>\n",
       "      <td>31.5</td>\n",
       "      <td>21.7</td>\n",
       "      <td>dark brown</td>\n",
       "      <td>0.001913</td>\n",
       "      <td>4.0</td>\n",
       "    </tr>\n",
       "    <tr>\n",
       "      <th>195</th>\n",
       "      <td>Farm 196</td>\n",
       "      <td>-101.55</td>\n",
       "      <td>51.11</td>\n",
       "      <td>20.4</td>\n",
       "      <td>21.9</td>\n",
       "      <td>None</td>\n",
       "      <td>0.001930</td>\n",
       "      <td>5.0</td>\n",
       "    </tr>\n",
       "    <tr>\n",
       "      <th>...</th>\n",
       "      <td>...</td>\n",
       "      <td>...</td>\n",
       "      <td>...</td>\n",
       "      <td>...</td>\n",
       "      <td>...</td>\n",
       "      <td>...</td>\n",
       "      <td>...</td>\n",
       "      <td>...</td>\n",
       "    </tr>\n",
       "    <tr>\n",
       "      <th>106</th>\n",
       "      <td>Farm 107</td>\n",
       "      <td>-104.47</td>\n",
       "      <td>51.19</td>\n",
       "      <td>32.4</td>\n",
       "      <td>89.5</td>\n",
       "      <td>None</td>\n",
       "      <td>0.007889</td>\n",
       "      <td>196.0</td>\n",
       "    </tr>\n",
       "    <tr>\n",
       "      <th>191</th>\n",
       "      <td>Farm 192</td>\n",
       "      <td>-103.46</td>\n",
       "      <td>50.98</td>\n",
       "      <td>32.5</td>\n",
       "      <td>89.6</td>\n",
       "      <td>dark brown</td>\n",
       "      <td>0.007897</td>\n",
       "      <td>197.0</td>\n",
       "    </tr>\n",
       "    <tr>\n",
       "      <th>173</th>\n",
       "      <td>Farm 174</td>\n",
       "      <td>-103.76</td>\n",
       "      <td>51.57</td>\n",
       "      <td>28.4</td>\n",
       "      <td>89.6</td>\n",
       "      <td>black</td>\n",
       "      <td>0.007897</td>\n",
       "      <td>197.0</td>\n",
       "    </tr>\n",
       "    <tr>\n",
       "      <th>146</th>\n",
       "      <td>Farm 147</td>\n",
       "      <td>-104.96</td>\n",
       "      <td>51.95</td>\n",
       "      <td>28.6</td>\n",
       "      <td>89.7</td>\n",
       "      <td>None</td>\n",
       "      <td>0.007906</td>\n",
       "      <td>199.0</td>\n",
       "    </tr>\n",
       "    <tr>\n",
       "      <th>158</th>\n",
       "      <td>Farm 159</td>\n",
       "      <td>-102.95</td>\n",
       "      <td>51.40</td>\n",
       "      <td>23.9</td>\n",
       "      <td>90.0</td>\n",
       "      <td>gray</td>\n",
       "      <td>0.007933</td>\n",
       "      <td>200.0</td>\n",
       "    </tr>\n",
       "  </tbody>\n",
       "</table>\n",
       "<p>200 rows × 8 columns</p>\n",
       "</div>"
      ],
      "text/plain": [
       "    farm_name  farm_lon  farm_lat  temperature  precipitation   soil_type  \\\n",
       "15    Farm 16   -103.07     51.05         20.0           20.7        None   \n",
       "111  Farm 112   -101.87     50.41         20.5           21.1       brown   \n",
       "133  Farm 134   -101.46     50.21         22.6           21.6        gray   \n",
       "152  Farm 153   -100.60     50.20         31.5           21.7  dark brown   \n",
       "195  Farm 196   -101.55     51.11         20.4           21.9        None   \n",
       "..        ...       ...       ...          ...            ...         ...   \n",
       "106  Farm 107   -104.47     51.19         32.4           89.5        None   \n",
       "191  Farm 192   -103.46     50.98         32.5           89.6  dark brown   \n",
       "173  Farm 174   -103.76     51.57         28.4           89.6       black   \n",
       "146  Farm 147   -104.96     51.95         28.6           89.7        None   \n",
       "158  Farm 159   -102.95     51.40         23.9           90.0        gray   \n",
       "\n",
       "     percentage_tot_prec  precipitation_rank  \n",
       "15              0.001825                 1.0  \n",
       "111             0.001860                 2.0  \n",
       "133             0.001904                 3.0  \n",
       "152             0.001913                 4.0  \n",
       "195             0.001930                 5.0  \n",
       "..                   ...                 ...  \n",
       "106             0.007889               196.0  \n",
       "191             0.007897               197.0  \n",
       "173             0.007897               197.0  \n",
       "146             0.007906               199.0  \n",
       "158             0.007933               200.0  \n",
       "\n",
       "[200 rows x 8 columns]"
      ]
     },
     "execution_count": 38,
     "metadata": {},
     "output_type": "execute_result"
    }
   ],
   "source": [
    "## Your code here down\n",
    "df[\"precipitation_rank\"] = df[\"precipitation\"].rank(method=\"min\")\n",
    "df.sort_values ([\"precipitation_rank\"], ascending = 1)\n",
    "\n",
    "## Your code here up"
   ]
  },
  {
   "cell_type": "markdown",
   "metadata": {},
   "source": [
    "10. Normalize the temperature column to a range between 0 and 1 for each farm."
   ]
  },
  {
   "cell_type": "code",
   "execution_count": 39,
   "metadata": {},
   "outputs": [
    {
     "data": {
      "text/html": [
       "<div>\n",
       "<style scoped>\n",
       "    .dataframe tbody tr th:only-of-type {\n",
       "        vertical-align: middle;\n",
       "    }\n",
       "\n",
       "    .dataframe tbody tr th {\n",
       "        vertical-align: top;\n",
       "    }\n",
       "\n",
       "    .dataframe thead th {\n",
       "        text-align: right;\n",
       "    }\n",
       "</style>\n",
       "<table border=\"1\" class=\"dataframe\">\n",
       "  <thead>\n",
       "    <tr style=\"text-align: right;\">\n",
       "      <th></th>\n",
       "      <th>farm_name</th>\n",
       "      <th>farm_lon</th>\n",
       "      <th>farm_lat</th>\n",
       "      <th>temperature</th>\n",
       "      <th>precipitation</th>\n",
       "      <th>soil_type</th>\n",
       "      <th>percentage_tot_prec</th>\n",
       "      <th>precipitation_rank</th>\n",
       "      <th>Temperature_adjusted</th>\n",
       "    </tr>\n",
       "  </thead>\n",
       "  <tbody>\n",
       "    <tr>\n",
       "      <th>0</th>\n",
       "      <td>Farm 1</td>\n",
       "      <td>-102.86</td>\n",
       "      <td>50.43</td>\n",
       "      <td>19.8</td>\n",
       "      <td>57.9</td>\n",
       "      <td>None</td>\n",
       "      <td>0.005103</td>\n",
       "      <td>103.0</td>\n",
       "      <td>0.120805</td>\n",
       "    </tr>\n",
       "    <tr>\n",
       "      <th>1</th>\n",
       "      <td>Farm 2</td>\n",
       "      <td>-104.61</td>\n",
       "      <td>51.89</td>\n",
       "      <td>25.2</td>\n",
       "      <td>68.4</td>\n",
       "      <td>brown</td>\n",
       "      <td>0.006029</td>\n",
       "      <td>126.0</td>\n",
       "      <td>0.483221</td>\n",
       "    </tr>\n",
       "    <tr>\n",
       "      <th>2</th>\n",
       "      <td>Farm 3</td>\n",
       "      <td>-103.74</td>\n",
       "      <td>51.77</td>\n",
       "      <td>31.7</td>\n",
       "      <td>73.3</td>\n",
       "      <td>black</td>\n",
       "      <td>0.006461</td>\n",
       "      <td>146.0</td>\n",
       "      <td>0.919463</td>\n",
       "    </tr>\n",
       "    <tr>\n",
       "      <th>3</th>\n",
       "      <td>Farm 4</td>\n",
       "      <td>-104.20</td>\n",
       "      <td>50.55</td>\n",
       "      <td>20.4</td>\n",
       "      <td>83.5</td>\n",
       "      <td>black</td>\n",
       "      <td>0.007360</td>\n",
       "      <td>172.0</td>\n",
       "      <td>0.161074</td>\n",
       "    </tr>\n",
       "    <tr>\n",
       "      <th>4</th>\n",
       "      <td>Farm 5</td>\n",
       "      <td>-103.36</td>\n",
       "      <td>51.95</td>\n",
       "      <td>22.9</td>\n",
       "      <td>46.1</td>\n",
       "      <td>None</td>\n",
       "      <td>0.004063</td>\n",
       "      <td>77.0</td>\n",
       "      <td>0.328859</td>\n",
       "    </tr>\n",
       "    <tr>\n",
       "      <th>...</th>\n",
       "      <td>...</td>\n",
       "      <td>...</td>\n",
       "      <td>...</td>\n",
       "      <td>...</td>\n",
       "      <td>...</td>\n",
       "      <td>...</td>\n",
       "      <td>...</td>\n",
       "      <td>...</td>\n",
       "      <td>...</td>\n",
       "    </tr>\n",
       "    <tr>\n",
       "      <th>195</th>\n",
       "      <td>Farm 196</td>\n",
       "      <td>-101.55</td>\n",
       "      <td>51.11</td>\n",
       "      <td>20.4</td>\n",
       "      <td>21.9</td>\n",
       "      <td>None</td>\n",
       "      <td>0.001930</td>\n",
       "      <td>5.0</td>\n",
       "      <td>0.161074</td>\n",
       "    </tr>\n",
       "    <tr>\n",
       "      <th>196</th>\n",
       "      <td>Farm 197</td>\n",
       "      <td>-100.58</td>\n",
       "      <td>50.33</td>\n",
       "      <td>29.3</td>\n",
       "      <td>88.8</td>\n",
       "      <td>brown</td>\n",
       "      <td>0.007827</td>\n",
       "      <td>190.0</td>\n",
       "      <td>0.758389</td>\n",
       "    </tr>\n",
       "    <tr>\n",
       "      <th>197</th>\n",
       "      <td>Farm 198</td>\n",
       "      <td>-101.02</td>\n",
       "      <td>51.77</td>\n",
       "      <td>30.1</td>\n",
       "      <td>37.6</td>\n",
       "      <td>brown</td>\n",
       "      <td>0.003314</td>\n",
       "      <td>46.0</td>\n",
       "      <td>0.812081</td>\n",
       "    </tr>\n",
       "    <tr>\n",
       "      <th>198</th>\n",
       "      <td>Farm 199</td>\n",
       "      <td>-103.43</td>\n",
       "      <td>50.52</td>\n",
       "      <td>31.2</td>\n",
       "      <td>65.0</td>\n",
       "      <td>black</td>\n",
       "      <td>0.005729</td>\n",
       "      <td>111.0</td>\n",
       "      <td>0.885906</td>\n",
       "    </tr>\n",
       "    <tr>\n",
       "      <th>199</th>\n",
       "      <td>Farm 200</td>\n",
       "      <td>-104.39</td>\n",
       "      <td>50.33</td>\n",
       "      <td>21.2</td>\n",
       "      <td>69.9</td>\n",
       "      <td>dark brown</td>\n",
       "      <td>0.006161</td>\n",
       "      <td>133.0</td>\n",
       "      <td>0.214765</td>\n",
       "    </tr>\n",
       "  </tbody>\n",
       "</table>\n",
       "<p>200 rows × 9 columns</p>\n",
       "</div>"
      ],
      "text/plain": [
       "    farm_name  farm_lon  farm_lat  temperature  precipitation   soil_type  \\\n",
       "0      Farm 1   -102.86     50.43         19.8           57.9        None   \n",
       "1      Farm 2   -104.61     51.89         25.2           68.4       brown   \n",
       "2      Farm 3   -103.74     51.77         31.7           73.3       black   \n",
       "3      Farm 4   -104.20     50.55         20.4           83.5       black   \n",
       "4      Farm 5   -103.36     51.95         22.9           46.1        None   \n",
       "..        ...       ...       ...          ...            ...         ...   \n",
       "195  Farm 196   -101.55     51.11         20.4           21.9        None   \n",
       "196  Farm 197   -100.58     50.33         29.3           88.8       brown   \n",
       "197  Farm 198   -101.02     51.77         30.1           37.6       brown   \n",
       "198  Farm 199   -103.43     50.52         31.2           65.0       black   \n",
       "199  Farm 200   -104.39     50.33         21.2           69.9  dark brown   \n",
       "\n",
       "     percentage_tot_prec  precipitation_rank  Temperature_adjusted  \n",
       "0               0.005103               103.0              0.120805  \n",
       "1               0.006029               126.0              0.483221  \n",
       "2               0.006461               146.0              0.919463  \n",
       "3               0.007360               172.0              0.161074  \n",
       "4               0.004063                77.0              0.328859  \n",
       "..                   ...                 ...                   ...  \n",
       "195             0.001930                 5.0              0.161074  \n",
       "196             0.007827               190.0              0.758389  \n",
       "197             0.003314                46.0              0.812081  \n",
       "198             0.005729               111.0              0.885906  \n",
       "199             0.006161               133.0              0.214765  \n",
       "\n",
       "[200 rows x 9 columns]"
      ]
     },
     "execution_count": 39,
     "metadata": {},
     "output_type": "execute_result"
    }
   ],
   "source": [
    "## Your code here down\n",
    "df['Temperature_adjusted'] = (df['temperature'] - df['temperature'].min()) / (df['temperature'].max() - df['temperature'].min())\n",
    "df\n",
    "## Your code here up"
   ]
  },
  {
   "cell_type": "markdown",
   "metadata": {},
   "source": [
    "# Assignment 4"
   ]
  },
  {
   "cell_type": "markdown",
   "metadata": {},
   "source": [
    "## ETL"
   ]
  },
  {
   "cell_type": "markdown",
   "metadata": {},
   "source": [
    "11. Change column types accordingly."
   ]
  },
  {
   "cell_type": "code",
   "execution_count": 55,
   "metadata": {},
   "outputs": [
    {
     "name": "stdout",
     "output_type": "stream",
     "text": [
      "<class 'pandas.core.frame.DataFrame'>\n",
      "RangeIndex: 200 entries, 0 to 199\n",
      "Data columns (total 9 columns):\n",
      " #   Column                Non-Null Count  Dtype  \n",
      "---  ------                --------------  -----  \n",
      " 0   farm_name             200 non-null    string \n",
      " 1   farm_lon              200 non-null    float64\n",
      " 2   farm_lat              200 non-null    float64\n",
      " 3   temperature           200 non-null    float64\n",
      " 4   precipitation         200 non-null    float64\n",
      " 5   soil_type             152 non-null    string \n",
      " 6   percentage_tot_prec   200 non-null    float64\n",
      " 7   precipitation_rank    200 non-null    float64\n",
      " 8   Temperature_adjusted  200 non-null    float64\n",
      "dtypes: float64(7), string(2)\n",
      "memory usage: 14.2 KB\n",
      "None\n",
      "<class 'pandas.core.frame.DataFrame'>\n",
      "RangeIndex: 200 entries, 0 to 199\n",
      "Data columns (total 9 columns):\n",
      " #   Column                Non-Null Count  Dtype  \n",
      "---  ------                --------------  -----  \n",
      " 0   farm_name             200 non-null    string \n",
      " 1   farm_lon              200 non-null    float64\n",
      " 2   farm_lat              200 non-null    float64\n",
      " 3   temperature           200 non-null    float64\n",
      " 4   precipitation         200 non-null    float64\n",
      " 5   soil_type             152 non-null    string \n",
      " 6   percentage_tot_prec   200 non-null    float64\n",
      " 7   precipitation_rank    200 non-null    float64\n",
      " 8   Temperature_adjusted  200 non-null    float64\n",
      "dtypes: float64(7), string(2)\n",
      "memory usage: 14.2 KB\n"
     ]
    }
   ],
   "source": [
    "## Your code here down\n",
    "typeBefore = df.info()\n",
    "print(typeBefore)\n",
    "df[\"farm_name\"] = df[\"farm_name\"].astype(\"string\")\n",
    "df[\"soil_type\"] = df[\"soil_type\"].astype(\"string\")\n",
    "typeAfter = df.info()\n",
    "\n",
    "## Your code here up"
   ]
  },
  {
   "cell_type": "markdown",
   "metadata": {},
   "source": [
    "## EDA"
   ]
  },
  {
   "cell_type": "markdown",
   "metadata": {},
   "source": [
    "12. Find missing values and give information how would you handle them"
   ]
  },
  {
   "cell_type": "code",
   "execution_count": 73,
   "metadata": {},
   "outputs": [
    {
     "name": "stdout",
     "output_type": "stream",
     "text": [
      "Fields and respective missing values: \n",
      "\n",
      "farm_name                0\n",
      "farm_lon                 0\n",
      "farm_lat                 0\n",
      "temperature              0\n",
      "precipitation            0\n",
      "soil_type               48\n",
      "percentage_tot_prec      0\n",
      "precipitation_rank       0\n",
      "Temperature_adjusted     0\n",
      "dtype: int64\n"
     ]
    }
   ],
   "source": [
    "## Your code here down\n",
    "#df\n",
    "#df.to_csv(\"verify missing values\")\n",
    "mValues = df.isnull().sum()\n",
    "print (f\"Fields and respective missing values: \\n\\n{mValues}\")\n",
    "# As it is a string field, not binary (True or False) and whose information cannot be obtained through information from other fields, I would fill the field with the text \"Not available\"\n",
    "\n",
    "## Your code here up"
   ]
  },
  {
   "cell_type": "markdown",
   "metadata": {},
   "source": [
    "13. Find outliers if there is any how would you handle them"
   ]
  },
  {
   "cell_type": "code",
   "execution_count": 94,
   "metadata": {},
   "outputs": [
    {
     "data": {
      "image/png": "[encoded data removed]",
      "text/plain": [
       "<Figure size 600x400 with 1 Axes>"
      ]
     },
     "metadata": {},
     "output_type": "display_data"
    }
   ],
   "source": [
    "## Your code here down\n",
    "# https://careerfoundry.com/en/blog/data-analytics/how-to-find-outliers/\n",
    "# https://www.geeksforgeeks.org/how-to-use-pandas-filter-with-iqr/\n",
    "\n",
    "#import seaborn as sns\n",
    "#import matplotlib.pyplot as plt\n",
    "#plt.style.use (\"seaborn\")\n",
    "\n",
    "plt.figure(figsize=(6,4))\n",
    "#sns.boxplot(df[\"temperature\"])\n",
    "#sns.boxplot(df[\"precipitation\"])\n",
    "#sns.boxplot(df[\"percentage_tot_prec\"])\n",
    "#sns.boxplot(df[\"precipitation_rank\"])\n",
    "sns.boxplot(df[\"Temperature_adjusted\"])\n",
    "plt.show()\n",
    "\n",
    "# I didn't find any outlayer in this dataframe.\n",
    "\n",
    "## Your code here up"
   ]
  },
  {
   "cell_type": "markdown",
   "metadata": {},
   "source": [
    "14. Find descriptive statistics for relavant columns and plot them by using bars."
   ]
  },
  {
   "cell_type": "code",
   "execution_count": 95,
   "metadata": {},
   "outputs": [
    {
     "data": {
      "image/png": "[encoded data removed]",
      "text/plain": [
       "<Figure size 800x550 with 1 Axes>"
      ]
     },
     "metadata": {},
     "output_type": "display_data"
    }
   ],
   "source": [
    "## Your code here down\n",
    "df2 = df\n",
    "df2.drop(columns=['farm_lon', 'farm_lat']).describe().T\\\n",
    "    .drop(columns='count')\\\n",
    "    .plot(kind='bar')\n",
    "plt.title('Descriptive Statistics', color='green', fontsize=16)\n",
    "plt.xlabel('Weather', color='green',fontsize=14)\n",
    "plt.ylabel('Values', color='green', fontsize=14)\n",
    "plt.xticks(color='red', fontsize=11)\n",
    "plt.yticks(color='red')\n",
    "plt.tight_layout()\n",
    "plt.show()\n",
    "\n",
    "\n",
    "## Your code here up"
   ]
  },
  {
   "cell_type": "markdown",
   "metadata": {},
   "source": [
    "15. Plot the distribution of relevant columns."
   ]
  },
  {
   "cell_type": "code",
   "execution_count": 96,
   "metadata": {},
   "outputs": [
    {
     "data": {
      "image/png": "[encoded data removed]",
      "text/plain": [
       "<Figure size 800x550 with 6 Axes>"
      ]
     },
     "metadata": {},
     "output_type": "display_data"
    }
   ],
   "source": [
    "## Your code here down\n",
    "\n",
    "df2.drop(columns=['farm_lon', 'farm_lat']).hist(bins=50)\n",
    "plt.tight_layout()\n",
    "plt.show()\n",
    "## Your code here up"
   ]
  },
  {
   "cell_type": "code",
   "execution_count": null,
   "metadata": {},
   "outputs": [],
   "source": []
  }
 ],
 "metadata": {
  "kernelspec": {
   "display_name": "Python 3 (ipykernel)",
   "language": "python",
   "name": "python3"
  },
  "language_info": {
   "codemirror_mode": {
    "name": "ipython",
    "version": 3
   },
   "file_extension": ".py",
   "mimetype": "text/x-python",
   "name": "python",
   "nbconvert_exporter": "python",
   "pygments_lexer": "ipython3",
   "version": "3.11.4"
  }
 },
 "nbformat": 4,
 "nbformat_minor": 2
}
