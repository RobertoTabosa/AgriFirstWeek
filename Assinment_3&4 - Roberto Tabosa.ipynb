{
 "cells": [
  {
   "cell_type": "markdown",
   "metadata": {},
   "source": [
    "# Assignment 3"
   ]
  },
  {
   "cell_type": "markdown",
   "metadata": {},
   "source": [
    "**Please follow the instructions. Do not add new cell! Write your code in designated areas.**"
   ]
  },
  {
   "cell_type": "code",
   "execution_count": 1,
   "metadata": {},
   "outputs": [
    {
     "name": "stdout",
     "output_type": "stream",
     "text": [
      "Assignment 1 & 2: Solutions by Roberto Tabosa\n",
      "Local Time: 2023-09-23 09:05:56\n",
      "Computer ID: roberto\n"
     ]
    }
   ],
   "source": [
    "import datetime\n",
    "import socket\n",
    "\n",
    "# Get local time\n",
    "local_time = datetime.datetime.now().strftime(\"%Y-%m-%d %H:%M:%S\")\n",
    "\n",
    "# Get computer ID or hostname\n",
    "computer_id = socket.gethostname()\n",
    "\n",
    "# Print output with local time and computer ID\n",
    "print('Assignment 1 & 2: Solutions by Roberto Tabosa') # Please change your name here\n",
    "print('Local Time:', local_time)\n",
    "print('Computer ID:', computer_id)"
   ]
  },
  {
   "cell_type": "markdown",
   "metadata": {},
   "source": [
    "## NumPy"
   ]
  },
  {
   "cell_type": "markdown",
   "metadata": {},
   "source": [
    "1. Create a 2D numpy array of size 4x5 with random integers between 1 and 10. Find the maximum value of the entire array. \n"
   ]
  },
  {
   "cell_type": "code",
   "execution_count": 13,
   "metadata": {},
   "outputs": [
    {
     "name": "stdout",
     "output_type": "stream",
     "text": [
      "[[ 1  4  9  3  6]\n",
      " [ 8  5  1 10  9]\n",
      " [ 8  4  9  5  8]\n",
      " [ 1  1  3  6  5]]\n",
      "Maximum Value in this array is: 10\n",
      "The mean is: 5.3\n",
      "The standard deviation in axis Y is: [2.72763634 3.26190129 1.93907194 2.03960781]\n",
      "The standard deviation in axis X is: [3.5        1.5        3.57071421 2.54950976 1.58113883]\n"
     ]
    }
   ],
   "source": [
    "## Your code here down\n",
    "import numpy as np\n",
    "arrayRandom = np.random.randint(1, 11, size=(4, 5))\n",
    "print (arrayRandom)\n",
    "print (f\"Maximum Value in this array is: {np.max(arrayRandom)}\")\n",
    "print (f\"The mean is: {np.mean(arrayRandom)}\")\n",
    "print (f\"The standard deviation in axis Y is: {np.std(arrayRandom, -1)}\")\n",
    "print (f\"The standard deviation in axis X is: {np.std(arrayRandom, 0)}\")\n",
    "\n",
    "# print(mean)\n",
    "#print(std) and so on\n",
    "## Your code here up"
   ]
  },
  {
   "cell_type": "markdown",
   "metadata": {},
   "source": [
    "2. Create a 1D numpy array of size 20 with random floats between 0 and 1. Reshape the array into a 4x5 matrix. Compute the mean of each row."
   ]
  },
  {
   "cell_type": "code",
   "execution_count": 26,
   "metadata": {},
   "outputs": [
    {
     "name": "stdout",
     "output_type": "stream",
     "text": [
      "[0.97445549 0.21282607 0.84587555 0.1419858  0.50845502 0.24813731\n",
      " 0.36536217 0.26106624 0.59180946 0.23821441 0.57225378 0.09344157\n",
      " 0.96172157 0.59795637 0.02584702 0.81585755 0.9252742  0.53249717\n",
      " 0.59794429 0.9779329 ]\n",
      "After reshape: [[0.97445549 0.21282607 0.84587555 0.1419858  0.50845502]\n",
      " [0.24813731 0.36536217 0.26106624 0.59180946 0.23821441]\n",
      " [0.57225378 0.09344157 0.96172157 0.59795637 0.02584702]\n",
      " [0.81585755 0.9252742  0.53249717 0.59794429 0.9779329 ]]\n"
     ]
    },
    {
     "data": {
      "text/plain": [
       "array([0.53671959, 0.34091792, 0.45024406, 0.76990122])"
      ]
     },
     "execution_count": 26,
     "metadata": {},
     "output_type": "execute_result"
    }
   ],
   "source": [
    "## Your code here down\n",
    "arrayRandom2 = np.random.rand (20)\n",
    "print (arrayRandom2)\n",
    "\n",
    "arrayRandom2R = arrayRandom2.reshape (4,5)\n",
    "print (f\"After reshape: {arrayRandom2R}\")\n",
    "np.mean (arrayRandom2R, axis = 1)\n",
    "\n",
    "\n",
    "## Your code here up"
   ]
  },
  {
   "cell_type": "markdown",
   "metadata": {},
   "source": [
    "3. Create a 2D numpy array of size 5x5 with random integers between 1 and 100. Compute standard deviation of each column."
   ]
  },
  {
   "cell_type": "code",
   "execution_count": 30,
   "metadata": {},
   "outputs": [
    {
     "name": "stdout",
     "output_type": "stream",
     "text": [
      "[[49 68 94 25 99]\n",
      " [ 1  1 19 66 79]\n",
      " [65 61 14 65 73]\n",
      " [48  4 27 41  3]\n",
      " [96 96 13 82 37]]\n"
     ]
    },
    {
     "data": {
      "text/plain": [
       "array([30.75971391, 37.41122826, 30.7024429 , 20.21286719, 34.09633411])"
      ]
     },
     "execution_count": 30,
     "metadata": {},
     "output_type": "execute_result"
    }
   ],
   "source": [
    "## Your code here down\n",
    "array55 = np.random.randint (1, 101, size = (5,5))\n",
    "print (array55)\n",
    "np.std (array55, axis = 0)\n",
    "\n",
    "## Your code here up"
   ]
  },
  {
   "cell_type": "markdown",
   "metadata": {},
   "source": [
    "4. Create a 1D numpy array of size 15 with random floats between -10 and 10. Replace all negative values with their absolute values."
   ]
  },
  {
   "cell_type": "code",
   "execution_count": 44,
   "metadata": {},
   "outputs": [
    {
     "name": "stdout",
     "output_type": "stream",
     "text": [
      "[ 9.83259236 -6.60343366 -5.42925488  3.89510679  5.78450639  2.67577753\n",
      "  8.26222595  2.71675739 -0.79697067  3.64945535  5.44811171 -8.17552493\n",
      "  0.91057653  2.58889427  9.02774018]\n",
      "[9.83259236 6.60343366 5.42925488 3.89510679 5.78450639 2.67577753\n",
      " 8.26222595 2.71675739 0.79697067 3.64945535 5.44811171 8.17552493\n",
      " 0.91057653 2.58889427 9.02774018]\n"
     ]
    }
   ],
   "source": [
    "## Your code here down\n",
    "array15 = np.random.uniform(-10,10,15)\n",
    "print(array15)\n",
    "\n",
    "array15Ab =  np.absolute (array15)\n",
    "print (array15Ab)\n",
    "\n",
    "## Your code here up"
   ]
  },
  {
   "cell_type": "markdown",
   "metadata": {},
   "source": [
    "5. Create a 2D numpy array of size 3x4 with random integers between 1 and 100. Calculate the sum of all elements in the array."
   ]
  },
  {
   "cell_type": "code",
   "execution_count": 51,
   "metadata": {},
   "outputs": [
    {
     "name": "stdout",
     "output_type": "stream",
     "text": [
      "[[46 74  4  9]\n",
      " [49 18 51 99]\n",
      " [45 76 30 45]]\n"
     ]
    },
    {
     "data": {
      "text/plain": [
       "546"
      ]
     },
     "execution_count": 51,
     "metadata": {},
     "output_type": "execute_result"
    }
   ],
   "source": [
    "## Your code here down\n",
    "array100 = np.random.randint (1,100, size = (3,4))\n",
    "print(array100)\n",
    "np.sum(array100)\n",
    "\n",
    "## Your code here up"
   ]
  },
  {
   "cell_type": "markdown",
   "metadata": {},
   "source": [
    "7. Create a 2D numpy array of size 4x6 with random floats between 0 and 1. Normalize each column by subtracting the column mean and dividing by the column standard deviation."
   ]
  },
  {
   "cell_type": "code",
   "execution_count": 67,
   "metadata": {},
   "outputs": [
    {
     "name": "stdout",
     "output_type": "stream",
     "text": [
      "[[0.50401314 0.54221554 0.49754779 0.88921938 0.51494839 0.72107824]\n",
      " [0.56483333 0.99549526 0.88809569 0.58778997 0.03022619 0.96320132]\n",
      " [0.61135765 0.64260537 0.18559755 0.20435332 0.13160241 0.36536627]\n",
      " [0.71957265 0.09155696 0.50592252 0.51312052 0.71705033 0.51116659]]\n",
      "\n",
      "\n",
      "[0.59994419 0.56796828 0.51929089 0.5486208  0.34845683 0.6402031 ]\n",
      "\n",
      "[0.07886186 0.32248293 0.24900788 0.24357852 0.27922983 0.22530776]\n",
      "\n",
      "\n",
      "The data normalized are:\n",
      " [[-1.21644415 -0.07985768 -0.08731891  1.39831124  0.59625278  0.35895406]\n",
      " [-0.44521979  1.3257352   1.48109689  0.16080715 -1.13967281  1.43358675]\n",
      " [ 0.14472722  0.23144508 -1.34009148 -1.4133737  -0.77661623 -1.21982855]\n",
      " [ 1.51693672 -1.47732261 -0.05368651 -0.14574469  1.32003626 -0.57271226]]\n"
     ]
    }
   ],
   "source": [
    "## Your code here down\n",
    "array46 = np.random.rand (4, 6)\n",
    "print (array46)\n",
    "print(\"\\n\")\n",
    "\n",
    "mdColum = np.mean(array46, axis = 0)\n",
    "print (mdColum)\n",
    "print()\n",
    "\n",
    "stdColum = np.std (array46, axis = 0)\n",
    "print (stdColum)\n",
    "print(\"\\n\")\n",
    "\n",
    "array46 = (array46 - mdColum)/stdColum\n",
    "print (f\"The data normalized are:\\n {array46}\")\n",
    "\n",
    "## Your code here up"
   ]
  },
  {
   "cell_type": "markdown",
   "metadata": {},
   "source": [
    "8. Create a 2D numpy array of size 10x10 with random integers between 1 and 100. Replace all values greater than 50 with 1 and all other values with 0."
   ]
  },
  {
   "cell_type": "code",
   "execution_count": 74,
   "metadata": {},
   "outputs": [
    {
     "name": "stdout",
     "output_type": "stream",
     "text": [
      "[[81 41 62 66 62 86 90 51 97 44]\n",
      " [58 88 38 82 86  6 28 61 44 84]\n",
      " [36 43 99 88 95 66 31 76 88 72]\n",
      " [48 69 17 77 43 83 92 22 16 15]\n",
      " [54 23 45 50 56  8 75 94 72 66]\n",
      " [ 7 68 55 56 87 61 20 46 20 29]\n",
      " [23 54 95 31 15 95 68  5 65 11]\n",
      " [98 29 44 34 41 38 84 21 78 74]\n",
      " [ 8 72 37 60  6 27  6 86  5 35]\n",
      " [72 77 38  8 19 96 24 45 35 36]]\n",
      "\n",
      "\n"
     ]
    },
    {
     "data": {
      "text/plain": [
       "array([[1, 0, 1, 1, 1, 1, 1, 1, 1, 0],\n",
       "       [1, 1, 0, 1, 1, 0, 0, 1, 0, 1],\n",
       "       [0, 0, 1, 1, 1, 1, 0, 1, 1, 1],\n",
       "       [0, 1, 0, 1, 0, 1, 1, 0, 0, 0],\n",
       "       [1, 0, 0, 0, 1, 0, 1, 1, 1, 1],\n",
       "       [0, 1, 1, 1, 1, 1, 0, 0, 0, 0],\n",
       "       [0, 1, 1, 0, 0, 1, 1, 0, 1, 0],\n",
       "       [1, 0, 0, 0, 0, 0, 1, 0, 1, 1],\n",
       "       [0, 1, 0, 1, 0, 0, 0, 1, 0, 0],\n",
       "       [1, 1, 0, 0, 0, 1, 0, 0, 0, 0]])"
      ]
     },
     "execution_count": 74,
     "metadata": {},
     "output_type": "execute_result"
    }
   ],
   "source": [
    "## Your code here down\n",
    "array1010 = np.random.randint(1, 100, size = (10, 10))\n",
    "print(array1010)\n",
    "print(\"\\n\")\n",
    "\n",
    "np.where (array1010 > 50, 1, 0)\n",
    "\n",
    "## Your code here up"
   ]
  },
  {
   "cell_type": "markdown",
   "metadata": {},
   "source": [
    "9. Create a 1D numpy array of size 50 with random floats between 0 and 1. Find the number of elements greater than 0.5."
   ]
  },
  {
   "cell_type": "code",
   "execution_count": 86,
   "metadata": {},
   "outputs": [
    {
     "name": "stdout",
     "output_type": "stream",
     "text": [
      "[0.68229427 0.11409991 0.43808798 0.52253682 0.24397528 0.60835668\n",
      " 0.47644867 0.11806241 0.66869308 0.53433546 0.66448407 0.86618558\n",
      " 0.56894281 0.88750917 0.90622197 0.98503103 0.73881142 0.37762361\n",
      " 0.26105678 0.97754849 0.27157509 0.66304554 0.72402147 0.79691626\n",
      " 0.68268193 0.10669759 0.66465673 0.54472856 0.14517074 0.38613005\n",
      " 0.22945663 0.23598155 0.63015098 0.13027683 0.60814107 0.61794247\n",
      " 0.67617122 0.89580303 0.80736735 0.80732984 0.37305049 0.50690563\n",
      " 0.32537089 0.53830944 0.24315895 0.85724496 0.97083682 0.40434273\n",
      " 0.09638832 0.09213807]\n",
      "\n",
      "\n"
     ]
    },
    {
     "data": {
      "text/plain": [
       "array([0.68229427, 0.52253682, 0.60835668, 0.66869308, 0.53433546,\n",
       "       0.66448407, 0.86618558, 0.56894281, 0.88750917, 0.90622197,\n",
       "       0.98503103, 0.73881142, 0.97754849, 0.66304554, 0.72402147,\n",
       "       0.79691626, 0.68268193, 0.66465673, 0.54472856, 0.63015098,\n",
       "       0.60814107, 0.61794247, 0.67617122, 0.89580303, 0.80736735,\n",
       "       0.80732984, 0.50690563, 0.53830944, 0.85724496, 0.97083682])"
      ]
     },
     "execution_count": 86,
     "metadata": {},
     "output_type": "execute_result"
    }
   ],
   "source": [
    "## Your code here down\n",
    "array50 = np.random.rand (50)\n",
    "print(array50)\n",
    "print(\"\\n\")\n",
    "\n",
    "array50 [array50 > 0.5]\n",
    "\n",
    "## Your code here up"
   ]
  },
  {
   "cell_type": "markdown",
   "metadata": {},
   "source": [
    "10. Create a 2D numpy array of size 5x5 with random floats between -1 and 1. Find the absolute difference between the maximum and minimum values in each row."
   ]
  },
  {
   "cell_type": "code",
   "execution_count": 99,
   "metadata": {},
   "outputs": [
    {
     "name": "stdout",
     "output_type": "stream",
     "text": [
      "[[ 0.32659075  0.0375101  -0.55690049 -0.7880187  -0.07765876]\n",
      " [ 0.52302628  0.29163874 -0.00783058  0.60815032  0.99732813]\n",
      " [-0.76667688 -0.89282548 -0.01471093  0.89079877  0.16661637]\n",
      " [ 0.93900453 -0.17117405  0.19330547 -0.17624561  0.78901703]\n",
      " [ 0.60777333  0.22951329  0.39937716 -0.18037246 -0.58049876]]\n",
      "\n",
      "\n",
      "[0.32659075 0.99732813 0.89079877 0.93900453 0.60777333]\n",
      "\n",
      "\n",
      "[-0.7880187  -0.00783058 -0.89282548 -0.17624561 -0.58049876]\n",
      "\n",
      "\n"
     ]
    },
    {
     "data": {
      "text/plain": [
       "array([1.11460945, 1.00515871, 1.78362425, 1.11525013, 1.18827209])"
      ]
     },
     "execution_count": 99,
     "metadata": {},
     "output_type": "execute_result"
    }
   ],
   "source": [
    "## Your code here down\n",
    "array2D55 = np.random.uniform (-1, 1, size = (5,5))\n",
    "print (array2D55)\n",
    "print(\"\\n\")\n",
    "maxValue = array2D55.max(axis = 1)\n",
    "print(maxValue)\n",
    "print (\"\\n\")\n",
    "minValue = array2D55.min (axis = 1)\n",
    "print (minValue)\n",
    "print (\"\\n\")\n",
    "\n",
    "np.abs (maxValue - minValue)\n",
    "\n",
    "## Your code here up"
   ]
  },
  {
   "cell_type": "markdown",
   "metadata": {},
   "source": [
    "## Pandas"
   ]
  },
  {
   "cell_type": "markdown",
   "metadata": {},
   "source": [
    "Please refer the dataframe (farm data) we have created in the training. Please copy that cell and paste it below before starting this part. "
   ]
  },
  {
   "cell_type": "code",
   "execution_count": 2,
   "metadata": {},
   "outputs": [],
   "source": [
    "import random\n",
    "import pandas as pd\n",
    "\n",
    "# Define the range for longitude and latitude\n",
    "lon_range = (-105, -100)\n",
    "lat_range = (50, 52)\n",
    "\n",
    "# Define the list of soil types\n",
    "soil_types = ['black', 'gray', 'dark brown', 'brown', None]\n",
    "\n",
    "# Create an empty list to store the farms\n",
    "farms = []\n",
    "\n",
    "# Generate 40 farms\n",
    "for i in range(200):\n",
    "    farm = {\n",
    "        'farm_name': f'Farm {i+1}', # f is formated string\n",
    "        'farm_lon': round(random.uniform(lon_range[0], lon_range[1]), 2), # random lon with 2 decimal points\n",
    "        'farm_lat': round(random.uniform(lat_range[0], lat_range[1]), 2), # rantom lat with 2 decimal points\n",
    "        'temperature': round(random.uniform(18, 33), 1), #random temp with 1 decimal points\n",
    "        'precipitation': round(random.uniform(20, 90), 1), # random prec with 1 decimal points\n",
    "        'soil_type': random.choice(soil_types) # random soil types from above list\n",
    "    }\n",
    "    farms.append(farm)"
   ]
  },
  {
   "cell_type": "code",
   "execution_count": 3,
   "metadata": {},
   "outputs": [
    {
     "name": "stdout",
     "output_type": "stream",
     "text": [
      "    farm_name  farm_lon  farm_lat  temperature  precipitation   soil_type\n",
      "0      Farm 1   -104.42     51.26         23.7           28.3       black\n",
      "1      Farm 2   -102.47     51.23         31.3           76.8        gray\n",
      "2      Farm 3   -102.30     51.18         18.1           85.2  dark brown\n",
      "3      Farm 4   -104.22     50.83         25.6           46.7  dark brown\n",
      "4      Farm 5   -104.19     50.53         19.6           42.6       black\n",
      "..        ...       ...       ...          ...            ...         ...\n",
      "195  Farm 196   -104.38     51.54         27.1           40.2        gray\n",
      "196  Farm 197   -103.72     51.06         20.6           38.4        gray\n",
      "197  Farm 198   -105.00     51.25         31.6           49.0  dark brown\n",
      "198  Farm 199   -104.57     50.35         21.0           76.3        None\n",
      "199  Farm 200   -102.05     50.36         20.1           58.3       brown\n",
      "\n",
      "[200 rows x 6 columns]\n"
     ]
    }
   ],
   "source": [
    "# your code here\n",
    "df = pd.DataFrame (farms)\n",
    "print (df)"
   ]
  },
  {
   "cell_type": "markdown",
   "metadata": {},
   "source": [
    "1. Select the rows where the temperature is above 20 degrees Celsius."
   ]
  },
  {
   "cell_type": "code",
   "execution_count": 5,
   "metadata": {},
   "outputs": [
    {
     "data": {
      "text/html": [
       "<div>\n",
       "<style scoped>\n",
       "    .dataframe tbody tr th:only-of-type {\n",
       "        vertical-align: middle;\n",
       "    }\n",
       "\n",
       "    .dataframe tbody tr th {\n",
       "        vertical-align: top;\n",
       "    }\n",
       "\n",
       "    .dataframe thead th {\n",
       "        text-align: right;\n",
       "    }\n",
       "</style>\n",
       "<table border=\"1\" class=\"dataframe\">\n",
       "  <thead>\n",
       "    <tr style=\"text-align: right;\">\n",
       "      <th></th>\n",
       "      <th>farm_name</th>\n",
       "      <th>farm_lon</th>\n",
       "      <th>farm_lat</th>\n",
       "      <th>temperature</th>\n",
       "      <th>precipitation</th>\n",
       "      <th>soil_type</th>\n",
       "    </tr>\n",
       "  </thead>\n",
       "  <tbody>\n",
       "    <tr>\n",
       "      <th>0</th>\n",
       "      <td>Farm 1</td>\n",
       "      <td>-104.42</td>\n",
       "      <td>51.26</td>\n",
       "      <td>23.7</td>\n",
       "      <td>28.3</td>\n",
       "      <td>black</td>\n",
       "    </tr>\n",
       "    <tr>\n",
       "      <th>1</th>\n",
       "      <td>Farm 2</td>\n",
       "      <td>-102.47</td>\n",
       "      <td>51.23</td>\n",
       "      <td>31.3</td>\n",
       "      <td>76.8</td>\n",
       "      <td>gray</td>\n",
       "    </tr>\n",
       "    <tr>\n",
       "      <th>3</th>\n",
       "      <td>Farm 4</td>\n",
       "      <td>-104.22</td>\n",
       "      <td>50.83</td>\n",
       "      <td>25.6</td>\n",
       "      <td>46.7</td>\n",
       "      <td>dark brown</td>\n",
       "    </tr>\n",
       "    <tr>\n",
       "      <th>5</th>\n",
       "      <td>Farm 6</td>\n",
       "      <td>-102.11</td>\n",
       "      <td>51.48</td>\n",
       "      <td>26.5</td>\n",
       "      <td>54.7</td>\n",
       "      <td>None</td>\n",
       "    </tr>\n",
       "    <tr>\n",
       "      <th>6</th>\n",
       "      <td>Farm 7</td>\n",
       "      <td>-101.35</td>\n",
       "      <td>51.98</td>\n",
       "      <td>22.5</td>\n",
       "      <td>55.1</td>\n",
       "      <td>None</td>\n",
       "    </tr>\n",
       "    <tr>\n",
       "      <th>...</th>\n",
       "      <td>...</td>\n",
       "      <td>...</td>\n",
       "      <td>...</td>\n",
       "      <td>...</td>\n",
       "      <td>...</td>\n",
       "      <td>...</td>\n",
       "    </tr>\n",
       "    <tr>\n",
       "      <th>195</th>\n",
       "      <td>Farm 196</td>\n",
       "      <td>-104.38</td>\n",
       "      <td>51.54</td>\n",
       "      <td>27.1</td>\n",
       "      <td>40.2</td>\n",
       "      <td>gray</td>\n",
       "    </tr>\n",
       "    <tr>\n",
       "      <th>196</th>\n",
       "      <td>Farm 197</td>\n",
       "      <td>-103.72</td>\n",
       "      <td>51.06</td>\n",
       "      <td>20.6</td>\n",
       "      <td>38.4</td>\n",
       "      <td>gray</td>\n",
       "    </tr>\n",
       "    <tr>\n",
       "      <th>197</th>\n",
       "      <td>Farm 198</td>\n",
       "      <td>-105.00</td>\n",
       "      <td>51.25</td>\n",
       "      <td>31.6</td>\n",
       "      <td>49.0</td>\n",
       "      <td>dark brown</td>\n",
       "    </tr>\n",
       "    <tr>\n",
       "      <th>198</th>\n",
       "      <td>Farm 199</td>\n",
       "      <td>-104.57</td>\n",
       "      <td>50.35</td>\n",
       "      <td>21.0</td>\n",
       "      <td>76.3</td>\n",
       "      <td>None</td>\n",
       "    </tr>\n",
       "    <tr>\n",
       "      <th>199</th>\n",
       "      <td>Farm 200</td>\n",
       "      <td>-102.05</td>\n",
       "      <td>50.36</td>\n",
       "      <td>20.1</td>\n",
       "      <td>58.3</td>\n",
       "      <td>brown</td>\n",
       "    </tr>\n",
       "  </tbody>\n",
       "</table>\n",
       "<p>181 rows × 6 columns</p>\n",
       "</div>"
      ],
      "text/plain": [
       "    farm_name  farm_lon  farm_lat  temperature  precipitation   soil_type\n",
       "0      Farm 1   -104.42     51.26         23.7           28.3       black\n",
       "1      Farm 2   -102.47     51.23         31.3           76.8        gray\n",
       "3      Farm 4   -104.22     50.83         25.6           46.7  dark brown\n",
       "5      Farm 6   -102.11     51.48         26.5           54.7        None\n",
       "6      Farm 7   -101.35     51.98         22.5           55.1        None\n",
       "..        ...       ...       ...          ...            ...         ...\n",
       "195  Farm 196   -104.38     51.54         27.1           40.2        gray\n",
       "196  Farm 197   -103.72     51.06         20.6           38.4        gray\n",
       "197  Farm 198   -105.00     51.25         31.6           49.0  dark brown\n",
       "198  Farm 199   -104.57     50.35         21.0           76.3        None\n",
       "199  Farm 200   -102.05     50.36         20.1           58.3       brown\n",
       "\n",
       "[181 rows x 6 columns]"
      ]
     },
     "execution_count": 5,
     "metadata": {},
     "output_type": "execute_result"
    }
   ],
   "source": [
    "## Your code here down\n",
    "df.loc[df[\"temperature\"] > 20]\n",
    "\n",
    "## Your code here up"
   ]
  },
  {
   "cell_type": "markdown",
   "metadata": {},
   "source": [
    "2. Sort the DataFrame by precipitation in descending order."
   ]
  },
  {
   "cell_type": "code",
   "execution_count": 15,
   "metadata": {},
   "outputs": [
    {
     "data": {
      "text/html": [
       "<div>\n",
       "<style scoped>\n",
       "    .dataframe tbody tr th:only-of-type {\n",
       "        vertical-align: middle;\n",
       "    }\n",
       "\n",
       "    .dataframe tbody tr th {\n",
       "        vertical-align: top;\n",
       "    }\n",
       "\n",
       "    .dataframe thead th {\n",
       "        text-align: right;\n",
       "    }\n",
       "</style>\n",
       "<table border=\"1\" class=\"dataframe\">\n",
       "  <thead>\n",
       "    <tr style=\"text-align: right;\">\n",
       "      <th></th>\n",
       "      <th>farm_name</th>\n",
       "      <th>farm_lon</th>\n",
       "      <th>farm_lat</th>\n",
       "      <th>temperature</th>\n",
       "      <th>precipitation</th>\n",
       "      <th>soil_type</th>\n",
       "    </tr>\n",
       "  </thead>\n",
       "  <tbody>\n",
       "    <tr>\n",
       "      <th>82</th>\n",
       "      <td>Farm 83</td>\n",
       "      <td>-101.49</td>\n",
       "      <td>50.07</td>\n",
       "      <td>24.9</td>\n",
       "      <td>89.8</td>\n",
       "      <td>black</td>\n",
       "    </tr>\n",
       "    <tr>\n",
       "      <th>189</th>\n",
       "      <td>Farm 190</td>\n",
       "      <td>-101.75</td>\n",
       "      <td>50.97</td>\n",
       "      <td>23.8</td>\n",
       "      <td>89.5</td>\n",
       "      <td>brown</td>\n",
       "    </tr>\n",
       "    <tr>\n",
       "      <th>7</th>\n",
       "      <td>Farm 8</td>\n",
       "      <td>-102.31</td>\n",
       "      <td>50.73</td>\n",
       "      <td>28.3</td>\n",
       "      <td>89.4</td>\n",
       "      <td>None</td>\n",
       "    </tr>\n",
       "    <tr>\n",
       "      <th>150</th>\n",
       "      <td>Farm 151</td>\n",
       "      <td>-100.01</td>\n",
       "      <td>51.92</td>\n",
       "      <td>21.4</td>\n",
       "      <td>89.3</td>\n",
       "      <td>gray</td>\n",
       "    </tr>\n",
       "    <tr>\n",
       "      <th>187</th>\n",
       "      <td>Farm 188</td>\n",
       "      <td>-102.53</td>\n",
       "      <td>50.99</td>\n",
       "      <td>26.6</td>\n",
       "      <td>89.1</td>\n",
       "      <td>dark brown</td>\n",
       "    </tr>\n",
       "    <tr>\n",
       "      <th>...</th>\n",
       "      <td>...</td>\n",
       "      <td>...</td>\n",
       "      <td>...</td>\n",
       "      <td>...</td>\n",
       "      <td>...</td>\n",
       "      <td>...</td>\n",
       "    </tr>\n",
       "    <tr>\n",
       "      <th>170</th>\n",
       "      <td>Farm 171</td>\n",
       "      <td>-103.35</td>\n",
       "      <td>50.94</td>\n",
       "      <td>26.5</td>\n",
       "      <td>21.2</td>\n",
       "      <td>black</td>\n",
       "    </tr>\n",
       "    <tr>\n",
       "      <th>152</th>\n",
       "      <td>Farm 153</td>\n",
       "      <td>-103.48</td>\n",
       "      <td>51.51</td>\n",
       "      <td>20.7</td>\n",
       "      <td>21.1</td>\n",
       "      <td>dark brown</td>\n",
       "    </tr>\n",
       "    <tr>\n",
       "      <th>102</th>\n",
       "      <td>Farm 103</td>\n",
       "      <td>-104.10</td>\n",
       "      <td>51.24</td>\n",
       "      <td>24.9</td>\n",
       "      <td>21.0</td>\n",
       "      <td>brown</td>\n",
       "    </tr>\n",
       "    <tr>\n",
       "      <th>141</th>\n",
       "      <td>Farm 142</td>\n",
       "      <td>-101.52</td>\n",
       "      <td>51.00</td>\n",
       "      <td>28.4</td>\n",
       "      <td>20.9</td>\n",
       "      <td>brown</td>\n",
       "    </tr>\n",
       "    <tr>\n",
       "      <th>165</th>\n",
       "      <td>Farm 166</td>\n",
       "      <td>-101.93</td>\n",
       "      <td>50.10</td>\n",
       "      <td>26.2</td>\n",
       "      <td>20.4</td>\n",
       "      <td>gray</td>\n",
       "    </tr>\n",
       "  </tbody>\n",
       "</table>\n",
       "<p>200 rows × 6 columns</p>\n",
       "</div>"
      ],
      "text/plain": [
       "    farm_name  farm_lon  farm_lat  temperature  precipitation   soil_type\n",
       "82    Farm 83   -101.49     50.07         24.9           89.8       black\n",
       "189  Farm 190   -101.75     50.97         23.8           89.5       brown\n",
       "7      Farm 8   -102.31     50.73         28.3           89.4        None\n",
       "150  Farm 151   -100.01     51.92         21.4           89.3        gray\n",
       "187  Farm 188   -102.53     50.99         26.6           89.1  dark brown\n",
       "..        ...       ...       ...          ...            ...         ...\n",
       "170  Farm 171   -103.35     50.94         26.5           21.2       black\n",
       "152  Farm 153   -103.48     51.51         20.7           21.1  dark brown\n",
       "102  Farm 103   -104.10     51.24         24.9           21.0       brown\n",
       "141  Farm 142   -101.52     51.00         28.4           20.9       brown\n",
       "165  Farm 166   -101.93     50.10         26.2           20.4        gray\n",
       "\n",
       "[200 rows x 6 columns]"
      ]
     },
     "execution_count": 15,
     "metadata": {},
     "output_type": "execute_result"
    }
   ],
   "source": [
    "## Your code here down\n",
    "df.sort_values(\"precipitation\", ascending = False)\n",
    "\n",
    "## Your code here up"
   ]
  },
  {
   "cell_type": "markdown",
   "metadata": {},
   "source": [
    "3. Filter the DataFrame to include only the farms located within latitude (51.15 & 51.00) range."
   ]
  },
  {
   "cell_type": "code",
   "execution_count": 17,
   "metadata": {},
   "outputs": [
    {
     "data": {
      "text/html": [
       "<div>\n",
       "<style scoped>\n",
       "    .dataframe tbody tr th:only-of-type {\n",
       "        vertical-align: middle;\n",
       "    }\n",
       "\n",
       "    .dataframe tbody tr th {\n",
       "        vertical-align: top;\n",
       "    }\n",
       "\n",
       "    .dataframe thead th {\n",
       "        text-align: right;\n",
       "    }\n",
       "</style>\n",
       "<table border=\"1\" class=\"dataframe\">\n",
       "  <thead>\n",
       "    <tr style=\"text-align: right;\">\n",
       "      <th></th>\n",
       "      <th>farm_name</th>\n",
       "      <th>farm_lon</th>\n",
       "      <th>farm_lat</th>\n",
       "      <th>temperature</th>\n",
       "      <th>precipitation</th>\n",
       "      <th>soil_type</th>\n",
       "    </tr>\n",
       "  </thead>\n",
       "  <tbody>\n",
       "    <tr>\n",
       "      <th>10</th>\n",
       "      <td>Farm 11</td>\n",
       "      <td>-100.92</td>\n",
       "      <td>51.03</td>\n",
       "      <td>24.7</td>\n",
       "      <td>74.7</td>\n",
       "      <td>None</td>\n",
       "    </tr>\n",
       "    <tr>\n",
       "      <th>13</th>\n",
       "      <td>Farm 14</td>\n",
       "      <td>-101.78</td>\n",
       "      <td>51.02</td>\n",
       "      <td>20.3</td>\n",
       "      <td>28.6</td>\n",
       "      <td>brown</td>\n",
       "    </tr>\n",
       "    <tr>\n",
       "      <th>22</th>\n",
       "      <td>Farm 23</td>\n",
       "      <td>-103.17</td>\n",
       "      <td>51.01</td>\n",
       "      <td>29.2</td>\n",
       "      <td>36.1</td>\n",
       "      <td>brown</td>\n",
       "    </tr>\n",
       "    <tr>\n",
       "      <th>25</th>\n",
       "      <td>Farm 26</td>\n",
       "      <td>-100.22</td>\n",
       "      <td>51.06</td>\n",
       "      <td>30.5</td>\n",
       "      <td>50.8</td>\n",
       "      <td>gray</td>\n",
       "    </tr>\n",
       "    <tr>\n",
       "      <th>43</th>\n",
       "      <td>Farm 44</td>\n",
       "      <td>-102.49</td>\n",
       "      <td>51.05</td>\n",
       "      <td>33.0</td>\n",
       "      <td>78.7</td>\n",
       "      <td>brown</td>\n",
       "    </tr>\n",
       "    <tr>\n",
       "      <th>57</th>\n",
       "      <td>Farm 58</td>\n",
       "      <td>-103.28</td>\n",
       "      <td>51.01</td>\n",
       "      <td>21.4</td>\n",
       "      <td>62.6</td>\n",
       "      <td>None</td>\n",
       "    </tr>\n",
       "    <tr>\n",
       "      <th>64</th>\n",
       "      <td>Farm 65</td>\n",
       "      <td>-103.39</td>\n",
       "      <td>51.15</td>\n",
       "      <td>25.3</td>\n",
       "      <td>54.5</td>\n",
       "      <td>dark brown</td>\n",
       "    </tr>\n",
       "    <tr>\n",
       "      <th>90</th>\n",
       "      <td>Farm 91</td>\n",
       "      <td>-102.96</td>\n",
       "      <td>51.12</td>\n",
       "      <td>20.0</td>\n",
       "      <td>75.5</td>\n",
       "      <td>gray</td>\n",
       "    </tr>\n",
       "    <tr>\n",
       "      <th>93</th>\n",
       "      <td>Farm 94</td>\n",
       "      <td>-103.89</td>\n",
       "      <td>51.14</td>\n",
       "      <td>29.2</td>\n",
       "      <td>69.4</td>\n",
       "      <td>black</td>\n",
       "    </tr>\n",
       "    <tr>\n",
       "      <th>103</th>\n",
       "      <td>Farm 104</td>\n",
       "      <td>-101.37</td>\n",
       "      <td>51.03</td>\n",
       "      <td>32.1</td>\n",
       "      <td>34.9</td>\n",
       "      <td>dark brown</td>\n",
       "    </tr>\n",
       "    <tr>\n",
       "      <th>116</th>\n",
       "      <td>Farm 117</td>\n",
       "      <td>-102.15</td>\n",
       "      <td>51.01</td>\n",
       "      <td>24.9</td>\n",
       "      <td>61.0</td>\n",
       "      <td>dark brown</td>\n",
       "    </tr>\n",
       "    <tr>\n",
       "      <th>122</th>\n",
       "      <td>Farm 123</td>\n",
       "      <td>-101.15</td>\n",
       "      <td>51.13</td>\n",
       "      <td>20.7</td>\n",
       "      <td>76.4</td>\n",
       "      <td>black</td>\n",
       "    </tr>\n",
       "    <tr>\n",
       "      <th>125</th>\n",
       "      <td>Farm 126</td>\n",
       "      <td>-103.44</td>\n",
       "      <td>51.00</td>\n",
       "      <td>30.1</td>\n",
       "      <td>27.2</td>\n",
       "      <td>brown</td>\n",
       "    </tr>\n",
       "    <tr>\n",
       "      <th>126</th>\n",
       "      <td>Farm 127</td>\n",
       "      <td>-101.18</td>\n",
       "      <td>51.11</td>\n",
       "      <td>21.6</td>\n",
       "      <td>72.6</td>\n",
       "      <td>None</td>\n",
       "    </tr>\n",
       "    <tr>\n",
       "      <th>127</th>\n",
       "      <td>Farm 128</td>\n",
       "      <td>-103.21</td>\n",
       "      <td>51.05</td>\n",
       "      <td>24.2</td>\n",
       "      <td>78.4</td>\n",
       "      <td>gray</td>\n",
       "    </tr>\n",
       "    <tr>\n",
       "      <th>141</th>\n",
       "      <td>Farm 142</td>\n",
       "      <td>-101.52</td>\n",
       "      <td>51.00</td>\n",
       "      <td>28.4</td>\n",
       "      <td>20.9</td>\n",
       "      <td>brown</td>\n",
       "    </tr>\n",
       "    <tr>\n",
       "      <th>154</th>\n",
       "      <td>Farm 155</td>\n",
       "      <td>-104.32</td>\n",
       "      <td>51.07</td>\n",
       "      <td>27.8</td>\n",
       "      <td>38.2</td>\n",
       "      <td>black</td>\n",
       "    </tr>\n",
       "    <tr>\n",
       "      <th>166</th>\n",
       "      <td>Farm 167</td>\n",
       "      <td>-101.11</td>\n",
       "      <td>51.12</td>\n",
       "      <td>26.2</td>\n",
       "      <td>59.3</td>\n",
       "      <td>black</td>\n",
       "    </tr>\n",
       "    <tr>\n",
       "      <th>196</th>\n",
       "      <td>Farm 197</td>\n",
       "      <td>-103.72</td>\n",
       "      <td>51.06</td>\n",
       "      <td>20.6</td>\n",
       "      <td>38.4</td>\n",
       "      <td>gray</td>\n",
       "    </tr>\n",
       "  </tbody>\n",
       "</table>\n",
       "</div>"
      ],
      "text/plain": [
       "    farm_name  farm_lon  farm_lat  temperature  precipitation   soil_type\n",
       "10    Farm 11   -100.92     51.03         24.7           74.7        None\n",
       "13    Farm 14   -101.78     51.02         20.3           28.6       brown\n",
       "22    Farm 23   -103.17     51.01         29.2           36.1       brown\n",
       "25    Farm 26   -100.22     51.06         30.5           50.8        gray\n",
       "43    Farm 44   -102.49     51.05         33.0           78.7       brown\n",
       "57    Farm 58   -103.28     51.01         21.4           62.6        None\n",
       "64    Farm 65   -103.39     51.15         25.3           54.5  dark brown\n",
       "90    Farm 91   -102.96     51.12         20.0           75.5        gray\n",
       "93    Farm 94   -103.89     51.14         29.2           69.4       black\n",
       "103  Farm 104   -101.37     51.03         32.1           34.9  dark brown\n",
       "116  Farm 117   -102.15     51.01         24.9           61.0  dark brown\n",
       "122  Farm 123   -101.15     51.13         20.7           76.4       black\n",
       "125  Farm 126   -103.44     51.00         30.1           27.2       brown\n",
       "126  Farm 127   -101.18     51.11         21.6           72.6        None\n",
       "127  Farm 128   -103.21     51.05         24.2           78.4        gray\n",
       "141  Farm 142   -101.52     51.00         28.4           20.9       brown\n",
       "154  Farm 155   -104.32     51.07         27.8           38.2       black\n",
       "166  Farm 167   -101.11     51.12         26.2           59.3       black\n",
       "196  Farm 197   -103.72     51.06         20.6           38.4        gray"
      ]
     },
     "execution_count": 17,
     "metadata": {},
     "output_type": "execute_result"
    }
   ],
   "source": [
    "## Your code here down\n",
    "df[(df[\"farm_lat\"] >= 51.00) & (df[\"farm_lat\"] <= 51.15)]\n",
    "\n",
    "## Your code here up"
   ]
  },
  {
   "cell_type": "markdown",
   "metadata": {},
   "source": [
    " 4. Calculate the standard deviation of precipitation for each soil type."
   ]
  },
  {
   "cell_type": "code",
   "execution_count": 23,
   "metadata": {},
   "outputs": [
    {
     "name": "stdout",
     "output_type": "stream",
     "text": [
      "soil_type\n",
      "black         19.665333\n",
      "brown         21.898394\n",
      "dark brown    21.405759\n",
      "gray          20.095832\n",
      "Name: precipitation, dtype: float64\n"
     ]
    }
   ],
   "source": [
    "## Your code here down\n",
    "df.head(5)\n",
    "\n",
    "stdSoil = df.groupby('soil_type')['precipitation'].std()\n",
    "print (stdSoil)\n",
    "\n",
    "## Your code here up"
   ]
  },
  {
   "cell_type": "markdown",
   "metadata": {},
   "source": [
    "5. Calculate the cumulative sum of precipitation for each soil type."
   ]
  },
  {
   "cell_type": "code",
   "execution_count": 26,
   "metadata": {},
   "outputs": [
    {
     "name": "stdout",
     "output_type": "stream",
     "text": [
      "soil_type\n",
      "black         2460.1\n",
      "brown         1575.1\n",
      "dark brown    2246.7\n",
      "gray          2287.0\n",
      "Name: precipitation, dtype: float64\n"
     ]
    }
   ],
   "source": [
    "## Your code here down\n",
    "df.head(5)\n",
    "\n",
    "sumPrec = df.groupby(\"soil_type\")[\"precipitation\"].sum()\n",
    "print(sumPrec)\n",
    "\n",
    "## Your code here up"
   ]
  },
  {
   "cell_type": "markdown",
   "metadata": {},
   "source": [
    "6. Determine the top 3 farms with the highest average temperature."
   ]
  },
  {
   "cell_type": "code",
   "execution_count": null,
   "metadata": {},
   "outputs": [],
   "source": [
    "## Your code here down\n",
    "\n",
    "\n",
    "## Your code here up"
   ]
  },
  {
   "cell_type": "markdown",
   "metadata": {},
   "source": [
    "7. Find famrs in each soil type that have the highest temperature."
   ]
  },
  {
   "cell_type": "code",
   "execution_count": null,
   "metadata": {},
   "outputs": [],
   "source": [
    "## Your code here down\n",
    "\n",
    "\n",
    "## Your code here up"
   ]
  },
  {
   "cell_type": "markdown",
   "metadata": {},
   "source": [
    "8. Create new column 'percentage_tot_prec' and add the percentage contribution of each farm's precipitation (relative to total precipitation) to the column."
   ]
  },
  {
   "cell_type": "code",
   "execution_count": null,
   "metadata": {},
   "outputs": [],
   "source": [
    "## Your code here down\n",
    "\n",
    "\n",
    "## Your code here up"
   ]
  },
  {
   "cell_type": "markdown",
   "metadata": {},
   "source": [
    "9. Create a new column called \"precipitation_rank\" that ranks the farms based on their precipitation in ascending order, with ties being assigned the same rank."
   ]
  },
  {
   "cell_type": "code",
   "execution_count": null,
   "metadata": {},
   "outputs": [],
   "source": [
    "## Your code here down\n",
    "\n",
    "\n",
    "## Your code here up"
   ]
  },
  {
   "cell_type": "markdown",
   "metadata": {},
   "source": [
    "10. Normalize the temperature column to a range between 0 and 1 for each farm."
   ]
  },
  {
   "cell_type": "code",
   "execution_count": null,
   "metadata": {},
   "outputs": [],
   "source": [
    "## Your code here down\n",
    "\n",
    "\n",
    "## Your code here up"
   ]
  },
  {
   "cell_type": "markdown",
   "metadata": {},
   "source": [
    "# Assignment 4"
   ]
  },
  {
   "cell_type": "markdown",
   "metadata": {},
   "source": [
    "## ETL"
   ]
  },
  {
   "cell_type": "markdown",
   "metadata": {},
   "source": [
    "11. Change column types accordingly."
   ]
  },
  {
   "cell_type": "code",
   "execution_count": null,
   "metadata": {},
   "outputs": [],
   "source": [
    "## Your code here down\n",
    "\n",
    "\n",
    "## Your code here up"
   ]
  },
  {
   "cell_type": "markdown",
   "metadata": {},
   "source": [
    "## EDA"
   ]
  },
  {
   "cell_type": "markdown",
   "metadata": {},
   "source": [
    "12. Find missing values and give information how would you handle them"
   ]
  },
  {
   "cell_type": "code",
   "execution_count": null,
   "metadata": {},
   "outputs": [],
   "source": [
    "## Your code here down\n",
    "\n",
    "\n",
    "## Your code here up"
   ]
  },
  {
   "cell_type": "markdown",
   "metadata": {},
   "source": [
    "13. Find outliers if there is any how would you handle them"
   ]
  },
  {
   "cell_type": "code",
   "execution_count": null,
   "metadata": {},
   "outputs": [],
   "source": [
    "## Your code here down\n",
    "\n",
    "\n",
    "## Your code here up"
   ]
  },
  {
   "cell_type": "markdown",
   "metadata": {},
   "source": [
    "14. Find descriptive statistics for relavant columns and plot them by using bars."
   ]
  },
  {
   "cell_type": "code",
   "execution_count": null,
   "metadata": {},
   "outputs": [],
   "source": [
    "## Your code here down\n",
    "\n",
    "\n",
    "## Your code here up"
   ]
  },
  {
   "cell_type": "markdown",
   "metadata": {},
   "source": [
    "15. Plot the distribution of relevant columns."
   ]
  },
  {
   "cell_type": "code",
   "execution_count": null,
   "metadata": {},
   "outputs": [],
   "source": [
    "## Your code here down\n",
    "\n",
    "\n",
    "## Your code here up"
   ]
  }
 ],
 "metadata": {
  "kernelspec": {
   "display_name": "Python 3 (ipykernel)",
   "language": "python",
   "name": "python3"
  },
  "language_info": {
   "codemirror_mode": {
    "name": "ipython",
    "version": 3
   },
   "file_extension": ".py",
   "mimetype": "text/x-python",
   "name": "python",
   "nbconvert_exporter": "python",
   "pygments_lexer": "ipython3",
   "version": "3.11.4"
  }
 },
 "nbformat": 4,
 "nbformat_minor": 2
}
